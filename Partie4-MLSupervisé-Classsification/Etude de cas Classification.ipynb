{
 "cells": [
  {
   "cell_type": "markdown",
   "metadata": {},
   "source": [
    "## Présentation de l'étude de cas"
   ]
  },
  {
   "cell_type": "raw",
   "metadata": {},
   "source": [
    "Le cas d'étude présenté dans cet exercice a pour objectif de classifier un signal d'un sonar  embarqué à bord d'un navire afin de détecter si l'objet détecté est une mine ou un rocher. Il s'agit ainsi de faire appel à des algorithmes de machine learning pour essayer d'établir les meilleures classifications possibles"
   ]
  },
  {
   "cell_type": "raw",
   "metadata": {},
   "source": [
    "Un sonar sous marin possède une antenne qui envoie dans l'eau une énergie électrique convertie en onde sonore à une fréquence donnée. Lorsque cette onde rencontre un objet, elle rebondit sur celui-ci et elle est captée à  nouveau par l'antenne du sonar qui se charge de transformer l'onde sonore reçue en énergie éléctrique "
   ]
  },
  {
   "cell_type": "raw",
   "metadata": {},
   "source": [
    "Le jeu d'observations utilisé contient pour chaque prédiction (mine ou rocher), 60 mesures. Chaque mesure correspond à l'intensité du signal éléctrique reçu dans une bande de fréquences sonores particulière. Les ondes du sonar sont émises dans différents angles, conditions et fréquences. Chaque onde sonore de réfléxion, transformée dès sa réception par le sonar en signal éléctrique est enregistrée selon le couple (fréquence, intensité du signal)."
   ]
  },
  {
   "cell_type": "markdown",
   "metadata": {},
   "source": [
    "## Traitement de l'étude de cas"
   ]
  },
  {
   "cell_type": "markdown",
   "metadata": {},
   "source": [
    "Notre problème consiste à prédire si l'objet repéré par le sonar est un rocher ou une mine. C'est un problème de classification.\n"
   ]
  },
  {
   "cell_type": "markdown",
   "metadata": {},
   "source": [
    "### 1. Chargement des données"
   ]
  },
  {
   "cell_type": "code",
   "execution_count": 22,
   "metadata": {},
   "outputs": [
    {
     "name": "stdout",
     "output_type": "stream",
     "text": [
      "['0.0200' '0.0371' '0.0428' '0.0207' '0.0954' '0.0986' '0.1539' '0.1601'\n",
      " '0.3109' '0.2111' '0.1609' '0.1582' '0.2238' '0.0645' '0.0660' '0.2273'\n",
      " '0.3100' '0.2999' '0.5078' '0.4797' '0.5783' '0.5071' '0.4328' '0.5550'\n",
      " '0.6711' '0.6415' '0.7104' '0.8080' '0.6791' '0.3857' '0.1307' '0.2604'\n",
      " '0.5121' '0.7547' '0.8537' '0.8507' '0.6692' '0.6097' '0.4943' '0.2744'\n",
      " '0.0510' '0.2834' '0.2825' '0.4256' '0.2641' '0.1386' '0.1051' '0.1343'\n",
      " '0.0383' '0.0324' '0.0232' '0.0027' '0.0065' '0.0159' '0.0072' '0.0167'\n",
      " '0.0180' '0.0084' '0.0090' '0.0032' 'R']\n",
      "(207, 61)\n"
     ]
    },
    {
     "data": {
      "text/html": [
       "<div>\n",
       "<style scoped>\n",
       "    .dataframe tbody tr th:only-of-type {\n",
       "        vertical-align: middle;\n",
       "    }\n",
       "\n",
       "    .dataframe tbody tr th {\n",
       "        vertical-align: top;\n",
       "    }\n",
       "\n",
       "    .dataframe thead th {\n",
       "        text-align: right;\n",
       "    }\n",
       "</style>\n",
       "<table border=\"1\" class=\"dataframe\">\n",
       "  <thead>\n",
       "    <tr style=\"text-align: right;\">\n",
       "      <th></th>\n",
       "      <th>0.0200</th>\n",
       "      <th>0.0371</th>\n",
       "      <th>0.0428</th>\n",
       "      <th>0.0207</th>\n",
       "      <th>0.0954</th>\n",
       "      <th>0.0986</th>\n",
       "      <th>0.1539</th>\n",
       "      <th>0.1601</th>\n",
       "      <th>0.3109</th>\n",
       "      <th>0.2111</th>\n",
       "      <th>...</th>\n",
       "      <th>0.0027</th>\n",
       "      <th>0.0065</th>\n",
       "      <th>0.0159</th>\n",
       "      <th>0.0072</th>\n",
       "      <th>0.0167</th>\n",
       "      <th>0.0180</th>\n",
       "      <th>0.0084</th>\n",
       "      <th>0.0090</th>\n",
       "      <th>0.0032</th>\n",
       "      <th>R</th>\n",
       "    </tr>\n",
       "  </thead>\n",
       "  <tbody>\n",
       "    <tr>\n",
       "      <th>0</th>\n",
       "      <td>0.0453</td>\n",
       "      <td>0.0523</td>\n",
       "      <td>0.0843</td>\n",
       "      <td>0.0689</td>\n",
       "      <td>0.1183</td>\n",
       "      <td>0.2583</td>\n",
       "      <td>0.2156</td>\n",
       "      <td>0.3481</td>\n",
       "      <td>0.3337</td>\n",
       "      <td>0.2872</td>\n",
       "      <td>...</td>\n",
       "      <td>0.0084</td>\n",
       "      <td>0.0089</td>\n",
       "      <td>0.0048</td>\n",
       "      <td>0.0094</td>\n",
       "      <td>0.0191</td>\n",
       "      <td>0.0140</td>\n",
       "      <td>0.0049</td>\n",
       "      <td>0.0052</td>\n",
       "      <td>0.0044</td>\n",
       "      <td>R</td>\n",
       "    </tr>\n",
       "    <tr>\n",
       "      <th>1</th>\n",
       "      <td>0.0262</td>\n",
       "      <td>0.0582</td>\n",
       "      <td>0.1099</td>\n",
       "      <td>0.1083</td>\n",
       "      <td>0.0974</td>\n",
       "      <td>0.2280</td>\n",
       "      <td>0.2431</td>\n",
       "      <td>0.3771</td>\n",
       "      <td>0.5598</td>\n",
       "      <td>0.6194</td>\n",
       "      <td>...</td>\n",
       "      <td>0.0232</td>\n",
       "      <td>0.0166</td>\n",
       "      <td>0.0095</td>\n",
       "      <td>0.0180</td>\n",
       "      <td>0.0244</td>\n",
       "      <td>0.0316</td>\n",
       "      <td>0.0164</td>\n",
       "      <td>0.0095</td>\n",
       "      <td>0.0078</td>\n",
       "      <td>R</td>\n",
       "    </tr>\n",
       "    <tr>\n",
       "      <th>2</th>\n",
       "      <td>0.0100</td>\n",
       "      <td>0.0171</td>\n",
       "      <td>0.0623</td>\n",
       "      <td>0.0205</td>\n",
       "      <td>0.0205</td>\n",
       "      <td>0.0368</td>\n",
       "      <td>0.1098</td>\n",
       "      <td>0.1276</td>\n",
       "      <td>0.0598</td>\n",
       "      <td>0.1264</td>\n",
       "      <td>...</td>\n",
       "      <td>0.0121</td>\n",
       "      <td>0.0036</td>\n",
       "      <td>0.0150</td>\n",
       "      <td>0.0085</td>\n",
       "      <td>0.0073</td>\n",
       "      <td>0.0050</td>\n",
       "      <td>0.0044</td>\n",
       "      <td>0.0040</td>\n",
       "      <td>0.0117</td>\n",
       "      <td>R</td>\n",
       "    </tr>\n",
       "    <tr>\n",
       "      <th>3</th>\n",
       "      <td>0.0762</td>\n",
       "      <td>0.0666</td>\n",
       "      <td>0.0481</td>\n",
       "      <td>0.0394</td>\n",
       "      <td>0.0590</td>\n",
       "      <td>0.0649</td>\n",
       "      <td>0.1209</td>\n",
       "      <td>0.2467</td>\n",
       "      <td>0.3564</td>\n",
       "      <td>0.4459</td>\n",
       "      <td>...</td>\n",
       "      <td>0.0031</td>\n",
       "      <td>0.0054</td>\n",
       "      <td>0.0105</td>\n",
       "      <td>0.0110</td>\n",
       "      <td>0.0015</td>\n",
       "      <td>0.0072</td>\n",
       "      <td>0.0048</td>\n",
       "      <td>0.0107</td>\n",
       "      <td>0.0094</td>\n",
       "      <td>R</td>\n",
       "    </tr>\n",
       "    <tr>\n",
       "      <th>4</th>\n",
       "      <td>0.0286</td>\n",
       "      <td>0.0453</td>\n",
       "      <td>0.0277</td>\n",
       "      <td>0.0174</td>\n",
       "      <td>0.0384</td>\n",
       "      <td>0.0990</td>\n",
       "      <td>0.1201</td>\n",
       "      <td>0.1833</td>\n",
       "      <td>0.2105</td>\n",
       "      <td>0.3039</td>\n",
       "      <td>...</td>\n",
       "      <td>0.0045</td>\n",
       "      <td>0.0014</td>\n",
       "      <td>0.0038</td>\n",
       "      <td>0.0013</td>\n",
       "      <td>0.0089</td>\n",
       "      <td>0.0057</td>\n",
       "      <td>0.0027</td>\n",
       "      <td>0.0051</td>\n",
       "      <td>0.0062</td>\n",
       "      <td>R</td>\n",
       "    </tr>\n",
       "    <tr>\n",
       "      <th>...</th>\n",
       "      <td>...</td>\n",
       "      <td>...</td>\n",
       "      <td>...</td>\n",
       "      <td>...</td>\n",
       "      <td>...</td>\n",
       "      <td>...</td>\n",
       "      <td>...</td>\n",
       "      <td>...</td>\n",
       "      <td>...</td>\n",
       "      <td>...</td>\n",
       "      <td>...</td>\n",
       "      <td>...</td>\n",
       "      <td>...</td>\n",
       "      <td>...</td>\n",
       "      <td>...</td>\n",
       "      <td>...</td>\n",
       "      <td>...</td>\n",
       "      <td>...</td>\n",
       "      <td>...</td>\n",
       "      <td>...</td>\n",
       "      <td>...</td>\n",
       "    </tr>\n",
       "    <tr>\n",
       "      <th>202</th>\n",
       "      <td>0.0187</td>\n",
       "      <td>0.0346</td>\n",
       "      <td>0.0168</td>\n",
       "      <td>0.0177</td>\n",
       "      <td>0.0393</td>\n",
       "      <td>0.1630</td>\n",
       "      <td>0.2028</td>\n",
       "      <td>0.1694</td>\n",
       "      <td>0.2328</td>\n",
       "      <td>0.2684</td>\n",
       "      <td>...</td>\n",
       "      <td>0.0116</td>\n",
       "      <td>0.0098</td>\n",
       "      <td>0.0199</td>\n",
       "      <td>0.0033</td>\n",
       "      <td>0.0101</td>\n",
       "      <td>0.0065</td>\n",
       "      <td>0.0115</td>\n",
       "      <td>0.0193</td>\n",
       "      <td>0.0157</td>\n",
       "      <td>M</td>\n",
       "    </tr>\n",
       "    <tr>\n",
       "      <th>203</th>\n",
       "      <td>0.0323</td>\n",
       "      <td>0.0101</td>\n",
       "      <td>0.0298</td>\n",
       "      <td>0.0564</td>\n",
       "      <td>0.0760</td>\n",
       "      <td>0.0958</td>\n",
       "      <td>0.0990</td>\n",
       "      <td>0.1018</td>\n",
       "      <td>0.1030</td>\n",
       "      <td>0.2154</td>\n",
       "      <td>...</td>\n",
       "      <td>0.0061</td>\n",
       "      <td>0.0093</td>\n",
       "      <td>0.0135</td>\n",
       "      <td>0.0063</td>\n",
       "      <td>0.0063</td>\n",
       "      <td>0.0034</td>\n",
       "      <td>0.0032</td>\n",
       "      <td>0.0062</td>\n",
       "      <td>0.0067</td>\n",
       "      <td>M</td>\n",
       "    </tr>\n",
       "    <tr>\n",
       "      <th>204</th>\n",
       "      <td>0.0522</td>\n",
       "      <td>0.0437</td>\n",
       "      <td>0.0180</td>\n",
       "      <td>0.0292</td>\n",
       "      <td>0.0351</td>\n",
       "      <td>0.1171</td>\n",
       "      <td>0.1257</td>\n",
       "      <td>0.1178</td>\n",
       "      <td>0.1258</td>\n",
       "      <td>0.2529</td>\n",
       "      <td>...</td>\n",
       "      <td>0.0160</td>\n",
       "      <td>0.0029</td>\n",
       "      <td>0.0051</td>\n",
       "      <td>0.0062</td>\n",
       "      <td>0.0089</td>\n",
       "      <td>0.0140</td>\n",
       "      <td>0.0138</td>\n",
       "      <td>0.0077</td>\n",
       "      <td>0.0031</td>\n",
       "      <td>M</td>\n",
       "    </tr>\n",
       "    <tr>\n",
       "      <th>205</th>\n",
       "      <td>0.0303</td>\n",
       "      <td>0.0353</td>\n",
       "      <td>0.0490</td>\n",
       "      <td>0.0608</td>\n",
       "      <td>0.0167</td>\n",
       "      <td>0.1354</td>\n",
       "      <td>0.1465</td>\n",
       "      <td>0.1123</td>\n",
       "      <td>0.1945</td>\n",
       "      <td>0.2354</td>\n",
       "      <td>...</td>\n",
       "      <td>0.0086</td>\n",
       "      <td>0.0046</td>\n",
       "      <td>0.0126</td>\n",
       "      <td>0.0036</td>\n",
       "      <td>0.0035</td>\n",
       "      <td>0.0034</td>\n",
       "      <td>0.0079</td>\n",
       "      <td>0.0036</td>\n",
       "      <td>0.0048</td>\n",
       "      <td>M</td>\n",
       "    </tr>\n",
       "    <tr>\n",
       "      <th>206</th>\n",
       "      <td>0.0260</td>\n",
       "      <td>0.0363</td>\n",
       "      <td>0.0136</td>\n",
       "      <td>0.0272</td>\n",
       "      <td>0.0214</td>\n",
       "      <td>0.0338</td>\n",
       "      <td>0.0655</td>\n",
       "      <td>0.1400</td>\n",
       "      <td>0.1843</td>\n",
       "      <td>0.2354</td>\n",
       "      <td>...</td>\n",
       "      <td>0.0146</td>\n",
       "      <td>0.0129</td>\n",
       "      <td>0.0047</td>\n",
       "      <td>0.0039</td>\n",
       "      <td>0.0061</td>\n",
       "      <td>0.0040</td>\n",
       "      <td>0.0036</td>\n",
       "      <td>0.0061</td>\n",
       "      <td>0.0115</td>\n",
       "      <td>M</td>\n",
       "    </tr>\n",
       "  </tbody>\n",
       "</table>\n",
       "<p>207 rows × 61 columns</p>\n",
       "</div>"
      ],
      "text/plain": [
       "     0.0200  0.0371  0.0428  0.0207  0.0954  0.0986  0.1539  0.1601  0.3109  \\\n",
       "0    0.0453  0.0523  0.0843  0.0689  0.1183  0.2583  0.2156  0.3481  0.3337   \n",
       "1    0.0262  0.0582  0.1099  0.1083  0.0974  0.2280  0.2431  0.3771  0.5598   \n",
       "2    0.0100  0.0171  0.0623  0.0205  0.0205  0.0368  0.1098  0.1276  0.0598   \n",
       "3    0.0762  0.0666  0.0481  0.0394  0.0590  0.0649  0.1209  0.2467  0.3564   \n",
       "4    0.0286  0.0453  0.0277  0.0174  0.0384  0.0990  0.1201  0.1833  0.2105   \n",
       "..      ...     ...     ...     ...     ...     ...     ...     ...     ...   \n",
       "202  0.0187  0.0346  0.0168  0.0177  0.0393  0.1630  0.2028  0.1694  0.2328   \n",
       "203  0.0323  0.0101  0.0298  0.0564  0.0760  0.0958  0.0990  0.1018  0.1030   \n",
       "204  0.0522  0.0437  0.0180  0.0292  0.0351  0.1171  0.1257  0.1178  0.1258   \n",
       "205  0.0303  0.0353  0.0490  0.0608  0.0167  0.1354  0.1465  0.1123  0.1945   \n",
       "206  0.0260  0.0363  0.0136  0.0272  0.0214  0.0338  0.0655  0.1400  0.1843   \n",
       "\n",
       "     0.2111  ...  0.0027  0.0065  0.0159  0.0072  0.0167  0.0180  0.0084  \\\n",
       "0    0.2872  ...  0.0084  0.0089  0.0048  0.0094  0.0191  0.0140  0.0049   \n",
       "1    0.6194  ...  0.0232  0.0166  0.0095  0.0180  0.0244  0.0316  0.0164   \n",
       "2    0.1264  ...  0.0121  0.0036  0.0150  0.0085  0.0073  0.0050  0.0044   \n",
       "3    0.4459  ...  0.0031  0.0054  0.0105  0.0110  0.0015  0.0072  0.0048   \n",
       "4    0.3039  ...  0.0045  0.0014  0.0038  0.0013  0.0089  0.0057  0.0027   \n",
       "..      ...  ...     ...     ...     ...     ...     ...     ...     ...   \n",
       "202  0.2684  ...  0.0116  0.0098  0.0199  0.0033  0.0101  0.0065  0.0115   \n",
       "203  0.2154  ...  0.0061  0.0093  0.0135  0.0063  0.0063  0.0034  0.0032   \n",
       "204  0.2529  ...  0.0160  0.0029  0.0051  0.0062  0.0089  0.0140  0.0138   \n",
       "205  0.2354  ...  0.0086  0.0046  0.0126  0.0036  0.0035  0.0034  0.0079   \n",
       "206  0.2354  ...  0.0146  0.0129  0.0047  0.0039  0.0061  0.0040  0.0036   \n",
       "\n",
       "     0.0090  0.0032  R  \n",
       "0    0.0052  0.0044  R  \n",
       "1    0.0095  0.0078  R  \n",
       "2    0.0040  0.0117  R  \n",
       "3    0.0107  0.0094  R  \n",
       "4    0.0051  0.0062  R  \n",
       "..      ...     ... ..  \n",
       "202  0.0193  0.0157  M  \n",
       "203  0.0062  0.0067  M  \n",
       "204  0.0077  0.0031  M  \n",
       "205  0.0036  0.0048  M  \n",
       "206  0.0061  0.0115  M  \n",
       "\n",
       "[207 rows x 61 columns]"
      ]
     },
     "execution_count": 22,
     "metadata": {},
     "output_type": "execute_result"
    }
   ],
   "source": [
    "# Charger le fichier de données sonar.all-data.csv et importer la bibliothèque nécessaire\n",
    "import pandas as pd\n",
    "observations=pd.read_csv('sonar.all-data.csv')\n",
    "\n",
    "#Afficher l'intitulé des différentes colonnes \n",
    "#Que peut-on noter?\n",
    "print(observations.columns.values)\n",
    "observations\n",
    "#Notre jeu d'instruction ne contient pas d'entête car la première observation est directement affichée\n",
    "#On pourrait noter que la dernière feature correspond à l'objet détecté (R pour 'Rocher' et 'M' pour 'Mine')\n",
    "\n",
    "#Combien de caractéristiques relatives aux signaux éléctriques disposons-nous?\n",
    "print(observations.shape)\n",
    "#Nous disposons ainsi de 60 siganux éléctriques et 208 observations\n",
    "observations"
   ]
  },
  {
   "cell_type": "markdown",
   "metadata": {},
   "source": [
    "### 2. Préparation et netoyage des données"
   ]
  },
  {
   "cell_type": "code",
   "execution_count": 23,
   "metadata": {},
   "outputs": [
    {
     "name": "stdout",
     "output_type": "stream",
     "text": [
      "<class 'pandas.core.frame.DataFrame'>\n",
      "RangeIndex: 208 entries, 0 to 207\n",
      "Data columns (total 61 columns):\n",
      " #   Column  Non-Null Count  Dtype  \n",
      "---  ------  --------------  -----  \n",
      " 0   F1      208 non-null    float64\n",
      " 1   F2      208 non-null    float64\n",
      " 2   F3      208 non-null    float64\n",
      " 3   F4      208 non-null    float64\n",
      " 4   F5      208 non-null    float64\n",
      " 5   F6      208 non-null    float64\n",
      " 6   F7      208 non-null    float64\n",
      " 7   F8      208 non-null    float64\n",
      " 8   F9      208 non-null    float64\n",
      " 9   F10     208 non-null    float64\n",
      " 10  F11     208 non-null    float64\n",
      " 11  F12     208 non-null    float64\n",
      " 12  F13     208 non-null    float64\n",
      " 13  F14     208 non-null    float64\n",
      " 14  F15     208 non-null    float64\n",
      " 15  F16     208 non-null    float64\n",
      " 16  F17     208 non-null    float64\n",
      " 17  F18     208 non-null    float64\n",
      " 18  F19     208 non-null    float64\n",
      " 19  F20     208 non-null    float64\n",
      " 20  F21     208 non-null    float64\n",
      " 21  F22     208 non-null    float64\n",
      " 22  F23     208 non-null    float64\n",
      " 23  F24     208 non-null    float64\n",
      " 24  F25     208 non-null    float64\n",
      " 25  F26     208 non-null    float64\n",
      " 26  F27     208 non-null    float64\n",
      " 27  F28     208 non-null    float64\n",
      " 28  F29     208 non-null    float64\n",
      " 29  F30     208 non-null    float64\n",
      " 30  F31     208 non-null    float64\n",
      " 31  F32     208 non-null    float64\n",
      " 32  F33     208 non-null    float64\n",
      " 33  F34     208 non-null    float64\n",
      " 34  F35     208 non-null    float64\n",
      " 35  F36     208 non-null    float64\n",
      " 36  F37     208 non-null    float64\n",
      " 37  F38     208 non-null    float64\n",
      " 38  F39     208 non-null    float64\n",
      " 39  F40     208 non-null    float64\n",
      " 40  F41     208 non-null    float64\n",
      " 41  F42     208 non-null    float64\n",
      " 42  F43     208 non-null    float64\n",
      " 43  F44     208 non-null    float64\n",
      " 44  F45     208 non-null    float64\n",
      " 45  F46     208 non-null    float64\n",
      " 46  F47     208 non-null    float64\n",
      " 47  F48     208 non-null    float64\n",
      " 48  F49     208 non-null    float64\n",
      " 49  F50     208 non-null    float64\n",
      " 50  F51     208 non-null    float64\n",
      " 51  F52     208 non-null    float64\n",
      " 52  F53     208 non-null    float64\n",
      " 53  F54     208 non-null    float64\n",
      " 54  F55     208 non-null    float64\n",
      " 55  F56     208 non-null    float64\n",
      " 56  F57     208 non-null    float64\n",
      " 57  F58     208 non-null    float64\n",
      " 58  F59     208 non-null    float64\n",
      " 59  F60     208 non-null    float64\n",
      " 60  Objet   208 non-null    int32  \n",
      "dtypes: float64(60), int32(1)\n",
      "memory usage: 98.4 KB\n",
      "None\n"
     ]
    },
    {
     "data": {
      "text/plain": [
       "F1       False\n",
       "F2       False\n",
       "F3       False\n",
       "F4       False\n",
       "F5       False\n",
       "         ...  \n",
       "F57      False\n",
       "F58      False\n",
       "F59      False\n",
       "F60      False\n",
       "Objet    False\n",
       "Length: 61, dtype: bool"
      ]
     },
     "metadata": {},
     "output_type": "display_data"
    },
    {
     "data": {
      "text/plain": [
       "(208, 61)"
      ]
     },
     "execution_count": 23,
     "metadata": {},
     "output_type": "execute_result"
    }
   ],
   "source": [
    "#Nommer chaque fréquence par lettre F associé à un numéro et nommer la dernière colonne par Objet\n",
    "observations=pd.read_csv('sonar.all-data.csv',names=['F1','F2','F3','F4','F5','F6','F7','F8','F9','F10','F11','F12','F13','F14','F15','F16','F17','F18',\n",
    "                                                    'F19','F20','F21','F22','F23','F24','F25','F26','F27','F28','F29','F30','F31','F32','F33','F34',\n",
    "                                                    'F35','F36','F37','F38','F39','F40','F41','F42','F43','F44','F45','F46','F47','F48','F49','F50',\n",
    "                                                    'F51','F52','F53','F54','F55','F56','F57','F58','F59','F60','Objet'])\n",
    "observations\n",
    "\n",
    "#Transformer la valeur du feature objet\n",
    "#Si l'objet est une mine, il prendra la valeur 1 sinon il prendra la valeur 0\n",
    "#Indice : utiliser la méthode astype(int)\n",
    "observations['Objet']=(observations['Objet']=='M').astype(int)\n",
    "observations\n",
    "#Utiliser la fonction info() de notre dataframe et observer l'affichage \n",
    "print(observations.info())\n",
    "display(observations.isnull().any())\n",
    "observations.shape"
   ]
  },
  {
   "cell_type": "markdown",
   "metadata": {},
   "source": [
    "### 3. Analyse et exploration des données "
   ]
  },
  {
   "cell_type": "code",
   "execution_count": 24,
   "metadata": {},
   "outputs": [
    {
     "name": "stdout",
     "output_type": "stream",
     "text": [
      "Objet\n",
      "0     97\n",
      "1    111\n",
      "dtype: int64\n"
     ]
    }
   ],
   "source": [
    "#Analysons nos données pour vérifier si on a une distribution équilibrée, à savoir autant \n",
    "#de mines que de rochers\n",
    "#indice : utiliser la fonction groupby()\n",
    "print(observations.groupby('Objet').size())\n",
    "\n",
    "#Nous notons 111 mines(Type 1) et 97 rochers (type 0)\n",
    "#Il n'y a pas une grande différence entre les deux catégories. Si par contre, il y en a un nombre\n",
    "#prédominant d'une classe ça pourrait influer l'apprentissage qui pourrait ne pas se faire dans les \n",
    "#bonnes conditions"
   ]
  },
  {
   "cell_type": "code",
   "execution_count": 25,
   "metadata": {},
   "outputs": [],
   "source": [
    "from sklearn.model_selection import train_test_split\n",
    "#X = observations.drop('Objet', axis = 1)\n",
    "#Y = observations[['Objet']]\n",
    "#print(X.shape)\n",
    "array=observations.values\n",
    "#conversion des données en type décimal\n",
    "X=array[:,0:-1].astype(float)\n",
    "Y=array[:,-1]\n",
    "# Split X and y into X_\n",
    "X_train, X_test, y_train, y_test = train_test_split(X, Y, test_size=0.20, random_state=1)\n",
    "#random_state dans la fonction de creation des jeux de données\n",
    "#permet d'obtenir les meme donnees d'apprentissage et de test à chaque itération de script"
   ]
  },
  {
   "cell_type": "code",
   "execution_count": 26,
   "metadata": {},
   "outputs": [
    {
     "data": {
      "text/plain": [
       "array([1., 1., 1., 1., 0., 0., 1., 0., 1., 0., 0., 0., 1., 1., 1., 1., 0.,\n",
       "       1., 0., 0., 1., 0., 0., 0., 1., 1., 0., 0., 0., 1., 1., 1., 0., 0.,\n",
       "       0., 0., 0., 0., 0., 1., 1., 1.])"
      ]
     },
     "execution_count": 26,
     "metadata": {},
     "output_type": "execute_result"
    }
   ],
   "source": [
    "#https://scikit-learn.org/stable/modules/model_evaluation.html\n",
    "y_test"
   ]
  },
  {
   "cell_type": "code",
   "execution_count": 27,
   "metadata": {},
   "outputs": [],
   "source": [
    "from sklearn.metrics import precision_score, recall_score\n",
    "from sklearn.metrics import f1_score\n",
    "from sklearn.metrics import accuracy_score\n",
    "import matplotlib.pyplot as plt\n",
    "from sklearn import metrics\n",
    "import numpy as np"
   ]
  },
  {
   "cell_type": "code",
   "execution_count": 28,
   "metadata": {},
   "outputs": [
    {
     "name": "stdout",
     "output_type": "stream",
     "text": [
      "K Plus Proches Voisins (accuracy): 0.7142857142857143\n"
     ]
    }
   ],
   "source": [
    "#K Plus Proches Voisins\n",
    "from sklearn.neighbors import KNeighborsClassifier\n",
    "knn=KNeighborsClassifier()\n",
    "knn.fit(X_train,y_train)\n",
    "prediction=knn.predict(X_test)\n",
    "print('K Plus Proches Voisins (accuracy): '+str(accuracy_score(prediction,y_test)))"
   ]
  },
  {
   "cell_type": "code",
   "execution_count": 29,
   "metadata": {},
   "outputs": [
    {
     "name": "stdout",
     "output_type": "stream",
     "text": [
      "{'n_neighbors': 4}\n",
      "K Plus Proches Voisins avec C optimal (accuracy): 0.7619047619047619\n"
     ]
    }
   ],
   "source": [
    "from sklearn.model_selection import GridSearchCV\n",
    "\n",
    "knn = KNeighborsClassifier()\n",
    "\n",
    "parameters = {'n_neighbors':[2,3,4,5,6,7]}\n",
    "\n",
    "#Fit the model\n",
    "model = GridSearchCV(knn, parameters, cv=5)\n",
    "model.fit(X_train,y_train)\n",
    "\n",
    "print ( model.best_params_ )\n",
    "nombre=model.best_params_['n_neighbors']\n",
    "knn=KNeighborsClassifier(nombre)\n",
    "knn.fit(X_train,y_train)\n",
    "prediction=knn.predict(X_test)\n",
    "print('K Plus Proches Voisins avec C optimal (accuracy): '+str(accuracy_score(prediction,y_test)))"
   ]
  },
  {
   "cell_type": "code",
   "execution_count": 30,
   "metadata": {},
   "outputs": [
    {
     "name": "stdout",
     "output_type": "stream",
     "text": [
      "Requirement already satisfied: pydotplus in c:\\users\\lenovo\\anaconda3\\lib\\site-packages (2.0.2)\n",
      "Requirement already satisfied: pyparsing>=2.0.1 in c:\\users\\lenovo\\anaconda3\\lib\\site-packages (from pydotplus) (3.0.9)\n",
      "Decision Tree Classifier (Accuracy) : 0.6904761904761905\n"
     ]
    },
    {
     "data": {
      "text/plain": [
       "True"
      ]
     },
     "execution_count": 30,
     "metadata": {},
     "output_type": "execute_result"
    }
   ],
   "source": [
    "from sklearn.tree import DecisionTreeClassifier\n",
    "from sklearn import datasets\n",
    "from IPython.display import Image  \n",
    "from sklearn import tree\n",
    "! pip install pydotplus\n",
    "import pydotplus\n",
    "\n",
    "#ETAPES A FAIRE POUR EXECUTER CE CODE\n",
    "#Il faut installer graphviz  https://graphviz.gitlab.io/download/ \n",
    "#copier le chemin vers le répertoire bin (exemple C:\\Program Files (x86)\\Graphviz2.38\\bin) et ajouter\n",
    "#ce chemin dans la liste des variables d'environnement /PATH\n",
    "#installer ensuite pydotplus à partir de jupyter notebook pip install pydotplus\n",
    "\n",
    "# Create decision tree classifer object\n",
    "#clf = DecisionTreeClassifier(random_state=0)\n",
    "clf_decisiontree = DecisionTreeClassifier(criterion = \"entropy\",random_state=0)\n",
    "#clf = DecisionTreeClassifier(criterion = \"gini\",random_state=0)\n",
    "\n",
    "# Train model\n",
    "model = clf_decisiontree.fit(X_train,y_train)\n",
    "\n",
    "prediction=clf_decisiontree.predict(X_test)\n",
    "print('Decision Tree Classifier (Accuracy) : '+str(accuracy_score(prediction,y_test)))\n",
    "# Create DOT data\n",
    "\n",
    "dot_data = tree.export_graphviz(clf_decisiontree, out_file=None, \n",
    "                                feature_names=observations.drop('Objet', axis = 1).columns.values)\n",
    "\n",
    "# Draw graph\n",
    "graph = pydotplus.graph_from_dot_data(dot_data)  \n",
    "\n",
    "# Show graph\n",
    "Image(graph.create_png())\n",
    "\n",
    "# Create PDF\n",
    "graph.write_pdf(\"data.pdf\")\n",
    "\n",
    "# Create PNG\n",
    "graph.write_png(\"data.png\")\n",
    "\n",
    "\n",
    "#Vous pouvez cherchez les parmètres optimaux ...\n",
    "#https://scikit-learn.org/stable/auto_examples/tree/plot_cost_complexity_pruning.html\n"
   ]
  },
  {
   "cell_type": "code",
   "execution_count": 31,
   "metadata": {},
   "outputs": [
    {
     "name": "stdout",
     "output_type": "stream",
     "text": [
      "Random Forest Classifier (Accuracy) : 0.7380952380952381\n"
     ]
    }
   ],
   "source": [
    "from sklearn.ensemble import RandomForestClassifier\n",
    "\n",
    "#Les paramètres les plus importants sont :\n",
    "#n_estimators : integer, optional (default=10). Le nombre d’arbres.\n",
    "#max_features : le nombre d’attributs à considérer à chaque split.\n",
    "#max_samples : la taille de l’échantillon aléatoire tiré de la base d’apprentissage.\n",
    "#min_samples_leaf : le nombre minimal d’éléments dans un nœud feuille.\n",
    "#oob_score : boolean. Estimer ou non l’erreur de généralisation OOB (Out of Bag).\n",
    "\n",
    "clf = RandomForestClassifier(n_estimators=200)\n",
    "# Train model\n",
    "model = clf.fit(X_train,y_train)\n",
    "\n",
    "prediction=clf.predict(X_test)\n",
    "print('Random Forest Classifier (Accuracy) : '+str(accuracy_score(prediction,y_test)))\n"
   ]
  },
  {
   "cell_type": "code",
   "execution_count": 32,
   "metadata": {},
   "outputs": [
    {
     "name": "stdout",
     "output_type": "stream",
     "text": [
      "Gradient Boosting : 0.7857142857142857\n"
     ]
    }
   ],
   "source": [
    "#Gradient Boosting\n",
    "from sklearn.ensemble import GradientBoostingClassifier\n",
    "gradientBoosting=GradientBoostingClassifier()\n",
    "gradientBoosting.fit(X_train,y_train)\n",
    "prediction=gradientBoosting.predict(X_test)\n",
    "print('Gradient Boosting : '+str(accuracy_score(prediction,y_test)))"
   ]
  },
  {
   "cell_type": "code",
   "execution_count": 33,
   "metadata": {},
   "outputs": [
    {
     "name": "stdout",
     "output_type": "stream",
     "text": [
      "Requirement already satisfied: xgboost in c:\\users\\lenovo\\anaconda3\\lib\\site-packages (1.7.5)\n",
      "Requirement already satisfied: numpy in c:\\users\\lenovo\\anaconda3\\lib\\site-packages (from xgboost) (1.23.5)\n",
      "Requirement already satisfied: scipy in c:\\users\\lenovo\\anaconda3\\lib\\site-packages (from xgboost) (1.10.0)\n",
      "Extreme Gradient Boosting : 0.8571428571428571\n"
     ]
    },
    {
     "data": {
      "text/plain": [
       "<Axes: ylabel='Feature_name'>"
      ]
     },
     "execution_count": 33,
     "metadata": {},
     "output_type": "execute_result"
    },
    {
     "data": {
      "image/png": "[encoded data removed]",
      "text/plain": [
       "<Figure size 1200x500 with 1 Axes>"
      ]
     },
     "metadata": {},
     "output_type": "display_data"
    }
   ],
   "source": [
    "#lancer pip install xgboost à partir de l'invite de commande\n",
    "import pandas as pd\n",
    "#from sklearn.preprocessing import MinMaxScaler\n",
    "! pip install xgboost\n",
    "import xgboost as xgb\n",
    "import pydotplus\n",
    "\n",
    "Xboost = xgb.XGBClassifier()\n",
    "Xboost.fit(X_train,y_train)\n",
    "prediction=Xboost.predict(X_test)\n",
    "print('Extreme Gradient Boosting : '+str(accuracy_score(prediction,y_test)))\n",
    "\n",
    "type(Xboost.feature_importances_)\n",
    "df=pd.DataFrame([observations.drop('Objet', axis = 1).columns.values,list(Xboost.feature_importances_)]).T\n",
    "df.columns=['Feature_name','Feature_score']\n",
    "df.sort_values('Feature_score',ascending=False,inplace=True)\n",
    "df.set_index('Feature_name',inplace=True)\n",
    "df.iloc[:10].plot(kind='barh',legend=False,figsize=(12,5))"
   ]
  },
  {
   "cell_type": "markdown",
   "metadata": {},
   "source": [
    "\n",
    "### Comparaison de performances de classifieurs"
   ]
  },
  {
   "cell_type": "code",
   "execution_count": 34,
   "metadata": {},
   "outputs": [],
   "source": [
    "# Liste des classifieurs évalués\n",
    "classifiers = [('KNeighbors Classifier',KNeighborsClassifier(nombre)),\n",
    "              ('Decision Tree Classifier',DecisionTreeClassifier(criterion = \"entropy\",random_state=0)),\n",
    "               ('Gradient Boosting Classifier',GradientBoostingClassifier()),\n",
    "           ('Random Forest Classifier',RandomForestClassifier(n_estimators=200)),\n",
    "               ('Extreme Gradient Boosting',xgb.XGBClassifier())              ]\n"
   ]
  },
  {
   "cell_type": "code",
   "execution_count": 35,
   "metadata": {},
   "outputs": [],
   "source": [
    "import pandas as pd        # charge un package pour le traitement des données\n",
    "from sklearn.metrics import confusion_matrix\n",
    "\n",
    "# Definition des métriques de performance\n",
    "def perf_compute(clf, name):\n",
    "    \"\"\"\n",
    "    Calcule le temps d'apprentissage, de prediction, le score\n",
    "    et la matrice de confusion d'un classifieur\n",
    "    \"\"\"\n",
    "    # On initialise le conteneur\n",
    "    perf = pd.Series(name=name)\n",
    "    # On crée les callables qu'on passera à la fonction de profiling\n",
    "    fit = lambda: clf.fit(X_train, y_train)\n",
    "    score = lambda: clf.score(X_test, y_test)\n",
    "\n",
    "    \n",
    "    # On calcule le score en pourcentage\n",
    "    perf['score'] = fit().score(X_test, y_test) * 100\n",
    "    # On calcule la matrice de confusion\n",
    "    perf['conf_mat'] = [confusion_matrix(fit().predict(X_test), y_test)]\n",
    "    \n",
    "    return perf"
   ]
  },
  {
   "cell_type": "code",
   "execution_count": 36,
   "metadata": {},
   "outputs": [
    {
     "name": "stderr",
     "output_type": "stream",
     "text": [
      "C:\\Users\\LENOVO\\AppData\\Local\\Temp\\ipykernel_23876\\446963202.py:11: FutureWarning: The default dtype for empty Series will be 'object' instead of 'float64' in a future version. Specify a dtype explicitly to silence this warning.\n",
      "  perf = pd.Series(name=name)\n",
      "C:\\Users\\LENOVO\\AppData\\Local\\Temp\\ipykernel_23876\\446963202.py:11: FutureWarning: The default dtype for empty Series will be 'object' instead of 'float64' in a future version. Specify a dtype explicitly to silence this warning.\n",
      "  perf = pd.Series(name=name)\n",
      "C:\\Users\\LENOVO\\AppData\\Local\\Temp\\ipykernel_23876\\446963202.py:11: FutureWarning: The default dtype for empty Series will be 'object' instead of 'float64' in a future version. Specify a dtype explicitly to silence this warning.\n",
      "  perf = pd.Series(name=name)\n",
      "C:\\Users\\LENOVO\\AppData\\Local\\Temp\\ipykernel_23876\\446963202.py:11: FutureWarning: The default dtype for empty Series will be 'object' instead of 'float64' in a future version. Specify a dtype explicitly to silence this warning.\n",
      "  perf = pd.Series(name=name)\n",
      "C:\\Users\\LENOVO\\AppData\\Local\\Temp\\ipykernel_23876\\446963202.py:11: FutureWarning: The default dtype for empty Series will be 'object' instead of 'float64' in a future version. Specify a dtype explicitly to silence this warning.\n",
      "  perf = pd.Series(name=name)\n"
     ]
    },
    {
     "data": {
      "text/html": [
       "<div>\n",
       "<style scoped>\n",
       "    .dataframe tbody tr th:only-of-type {\n",
       "        vertical-align: middle;\n",
       "    }\n",
       "\n",
       "    .dataframe tbody tr th {\n",
       "        vertical-align: top;\n",
       "    }\n",
       "\n",
       "    .dataframe thead th {\n",
       "        text-align: right;\n",
       "    }\n",
       "</style>\n",
       "<table border=\"1\" class=\"dataframe\">\n",
       "  <thead>\n",
       "    <tr style=\"text-align: right;\">\n",
       "      <th></th>\n",
       "      <th>Decision Tree Classifier</th>\n",
       "      <th>KNeighbors Classifier</th>\n",
       "      <th>Random Forest Classifier</th>\n",
       "      <th>Gradient Boosting Classifier</th>\n",
       "      <th>Extreme Gradient Boosting</th>\n",
       "    </tr>\n",
       "  </thead>\n",
       "  <tbody>\n",
       "    <tr>\n",
       "      <th>score</th>\n",
       "      <td>69.047619</td>\n",
       "      <td>76.190476</td>\n",
       "      <td>76.190476</td>\n",
       "      <td>78.571429</td>\n",
       "      <td>85.714286</td>\n",
       "    </tr>\n",
       "  </tbody>\n",
       "</table>\n",
       "</div>"
      ],
      "text/plain": [
       "       Decision Tree Classifier  KNeighbors Classifier  \\\n",
       "score                 69.047619              76.190476   \n",
       "\n",
       "       Random Forest Classifier  Gradient Boosting Classifier  \\\n",
       "score                 76.190476                     78.571429   \n",
       "\n",
       "       Extreme Gradient Boosting  \n",
       "score                  85.714286  "
      ]
     },
     "execution_count": 36,
     "metadata": {},
     "output_type": "execute_result"
    }
   ],
   "source": [
    "# On lance le calcule de performance\n",
    "perfs = pd.DataFrame([perf_compute(clf, name) for name, clf in classifiers])\n",
    "perfs = perfs.sort_values('score')\n",
    "\n",
    "perfs['score'.split()].T"
   ]
  },
  {
   "cell_type": "code",
   "execution_count": 37,
   "metadata": {},
   "outputs": [
    {
     "data": {
      "image/png": "[encoded data removed]",
      "text/plain": [
       "<Figure size 1200x400 with 4 Axes>"
      ]
     },
     "metadata": {},
     "output_type": "display_data"
    }
   ],
   "source": [
    "import seaborn as sns\n",
    "\n",
    "def plot_conf_mat(perf, ax, title='Model'):\n",
    "    \"\"\"\n",
    "    Affichage de la matrice de confusion\n",
    "    \"\"\"\n",
    "    sns.heatmap(perf.conf_mat[0], ax=ax, square=True, annot=True)\n",
    "    ax.set_title('{}: {}\\nScore: {:.2f}'.format(title, perf.name, perf.score))\n",
    "    ax.set_xlabel('True label')\n",
    "    ax.set_ylabel('Predicted label')\n",
    "\n",
    "# Affichage du plus mauvais et du meilleur classifieur\n",
    "# Les classifieurs sont classés par scores croissant\n",
    "fig, axs = plt.subplots(ncols=2, figsize=(12, 4))\n",
    "plot_conf_mat(perfs.iloc[0], ax=axs[0], title='Pire model')\n",
    "plot_conf_mat(perfs.iloc[-1], ax=axs[1], title='Meilleur model')"
   ]
  },
  {
   "cell_type": "code",
   "execution_count": 38,
   "metadata": {},
   "outputs": [
    {
     "name": "stdout",
     "output_type": "stream",
     "text": [
      "Cas 1 : \n",
      " Meilleurs paramètres : \n",
      "{'C': 1.0, 'kernel': 'linear'}\n",
      "Machine Vecteurs Supports -Linear Kernel  (accuracy): 0.7619047619047619\n",
      "VN,FP,FN,VP : \n",
      "15 7 3 17\n",
      "precision :0.7083333333333334\n",
      "recall :0.85\n",
      "F1 :0.7727272727272727\n",
      "\n",
      " Cas 2: \n",
      " Meilleurs paramètres : \n",
      "{'C': 0.001, 'degree': 2, 'gamma': 10.0, 'kernel': 'poly'}\n",
      "Machine Vecteurs Supports -Poly Kernel  (accuracy): 0.7857142857142857\n",
      "VN,FP,FN,VP : \n",
      "16 6 3 17\n",
      "precision :0.7391304347826086\n",
      "recall :0.85\n",
      "F1 :0.7906976744186046\n"
     ]
    }
   ],
   "source": [
    "#Appliquer l'algorithme SVM\n",
    "\n",
    "#machine vecteurs supports avec variation de paramètres et recherche des valeurs optimales avec la validation croisée\n",
    "#Les réglages à effectuer : Le noyau et ses paramètres + La constante de tolérance C \n",
    "#Tests avec 5 échantillons de validation croisee \n",
    "from sklearn.svm import SVC\n",
    "from sklearn.model_selection import GridSearchCV\n",
    "\n",
    "#Cas 1\n",
    "paramètres = {'kernel': ['linear'], 'C': list(np.logspace(-3, 3, 5))}\n",
    "recherche_optimisations=GridSearchCV(SVC(gamma='auto'),paramètres, cv=5)\n",
    "recherche_optimisations.fit(X_train,y_train)\n",
    "print ('Cas 1 : \\n Meilleurs paramètres : ')\n",
    "parametre=recherche_optimisations.best_params_ \n",
    "print (parametre)\n",
    "SVM=SVC(C=parametre[\"C\"],kernel=parametre[\"kernel\"],gamma='auto')\n",
    "SVM.fit(X_train,y_train)\n",
    "prediction=SVM.predict(X_test)\n",
    "print('Machine Vecteurs Supports -Linear Kernel  (accuracy): '+str(accuracy_score(prediction,y_test)))\n",
    "#mesure des performances\n",
    "\n",
    "VN,FP,FN,VP=metrics.confusion_matrix(y_test,prediction).ravel()#tn fp fn tp\n",
    "print('VN,FP,FN,VP : ') \n",
    "print(VN,FP,FN,VP)\n",
    "\n",
    "precision=precision_score(y_test,prediction)\n",
    "print('precision :'+str(precision))\n",
    "recall=recall_score(y_test,prediction)\n",
    "print('recall :'+str(recall))\n",
    "F1=f1_score(y_test,prediction)\n",
    "print('F1 :'+str(F1))\n",
    "#Cas 2\n",
    "#définition d'une plage de valeurs à tester\n",
    "Cs = list(np.logspace(-3, 3, 5))\n",
    "gammas = 10. ** np.arange(1, 2)\n",
    "degrees = np.r_[1, 2, 3]\n",
    "paramètres = {'kernel': ['poly'], 'C': Cs, 'gamma': gammas, 'degree': degrees}\n",
    "recherche_optimisations=GridSearchCV(SVC(),paramètres, cv=5)\n",
    "recherche_optimisations.fit(X_train,y_train)\n",
    "print ('\\n Cas 2: \\n Meilleurs paramètres : ')\n",
    "parametre=recherche_optimisations.best_params_ \n",
    "print (parametre)\n",
    "SVM=SVC(C=parametre[\"C\"],kernel=parametre[\"kernel\"],degree=parametre[\"degree\"],gamma=parametre[\"gamma\"])\n",
    "SVM.fit(X_train,y_train)\n",
    "prediction=SVM.predict(X_test)\n",
    "print('Machine Vecteurs Supports -Poly Kernel  (accuracy): '+str(accuracy_score(prediction,y_test)))\n",
    "#mesure des performances\n",
    "\n",
    "VN,FP,FN,VP=metrics.confusion_matrix(y_test,prediction).ravel()#tn fp fn tp\n",
    "print('VN,FP,FN,VP : ') \n",
    "print(VN,FP,FN,VP)\n",
    "\n",
    "precision=precision_score(y_test,prediction)\n",
    "print('precision :'+str(precision))\n",
    "recall=recall_score(y_test,prediction)\n",
    "print('recall :'+str(recall))\n",
    "F1=f1_score(y_test,prediction)\n",
    "print('F1 :'+str(F1))\n",
    "\n"
   ]
  },
  {
   "cell_type": "code",
   "execution_count": 39,
   "metadata": {},
   "outputs": [
    {
     "name": "stdout",
     "output_type": "stream",
     "text": [
      "Regression Logistique (accuracy): 0.8095238095238095\n",
      "VN,FP,FN,VP : \n",
      "17 5 3 17\n",
      "precision :0.7727272727272727\n",
      "recall :0.85\n",
      "F1 :0.8095238095238095\n"
     ]
    }
   ],
   "source": [
    "#regression logistique\n",
    "from sklearn.linear_model import LogisticRegression\n",
    "regression_logistique=LogisticRegression(solver='lbfgs')\n",
    "regression_logistique.fit(X_train,y_train)\n",
    "prediction=regression_logistique.predict(X_test)\n",
    "print('Regression Logistique (accuracy): '+str(accuracy_score(prediction,y_test)))\n",
    "#mesure des performances\n",
    "\n",
    "VN,FP,FN,VP=metrics.confusion_matrix(y_test,prediction).ravel()#tn fp fn tp\n",
    "print('VN,FP,FN,VP : ') \n",
    "print(VN,FP,FN,VP)\n",
    "\n",
    "precision=precision_score(y_test,prediction)\n",
    "print('precision :'+str(precision))\n",
    "recall=recall_score(y_test,prediction)\n",
    "print('recall :'+str(recall))\n",
    "F1=f1_score(y_test,prediction)\n",
    "print('F1 :'+str(F1))"
   ]
  },
  {
   "cell_type": "code",
   "execution_count": 40,
   "metadata": {},
   "outputs": [
    {
     "name": "stdout",
     "output_type": "stream",
     "text": [
      "Perceptron (accuracy): 0.5952380952380952\n",
      "VN,FP,FN,VP : \n",
      "17 5 12 8\n",
      "precision :0.6153846153846154\n",
      "recall :0.4\n",
      "F1 :0.4848484848484849\n"
     ]
    }
   ],
   "source": [
    "#Perceptron, on pourrait également utiliser SGDClassifier \n",
    "from sklearn.linear_model import Perceptron\n",
    "perceptron = Perceptron(tol=1e-3, random_state=0)\n",
    "perceptron.fit(X_train,y_train)\n",
    "prediction=perceptron.predict(X_test)\n",
    "print('Perceptron (accuracy): '+str(accuracy_score(prediction,y_test)))\n",
    "#mesure des performances\n",
    "\n",
    "VN,FP,FN,VP=metrics.confusion_matrix(y_test,prediction).ravel()#tn fp fn tp\n",
    "print('VN,FP,FN,VP : ') \n",
    "print(VN,FP,FN,VP)\n",
    "\n",
    "precision=precision_score(y_test,prediction)\n",
    "print('precision :'+str(precision))\n",
    "recall=recall_score(y_test,prediction)\n",
    "print('recall :'+str(recall))\n",
    "F1=f1_score(y_test,prediction)\n",
    "print('F1 :'+str(F1))"
   ]
  },
  {
   "cell_type": "code",
   "execution_count": 41,
   "metadata": {},
   "outputs": [],
   "source": [
    "#Tester le BaggingClassifier en spécifiant différents modèles de base à importer de sklearn.ensemble"
   ]
  },
  {
   "cell_type": "code",
   "execution_count": 42,
   "metadata": {},
   "outputs": [],
   "source": [
    "#Consultez ce lien https://github.com/jeffprosise/Machine-Learning et tester des exemples et y intégrer d'autres modèles de machines learning"
   ]
  },
  {
   "cell_type": "code",
   "execution_count": 43,
   "metadata": {},
   "outputs": [],
   "source": [
    "##https://github.com/selva86/datasets"
   ]
  }
 ],
 "metadata": {
  "kernelspec": {
   "display_name": "Python 3 (ipykernel)",
   "language": "python",
   "name": "python3"
  },
  "language_info": {
   "codemirror_mode": {
    "name": "ipython",
    "version": 3
   },
   "file_extension": ".py",
   "mimetype": "text/x-python",
   "name": "python",
   "nbconvert_exporter": "python",
   "pygments_lexer": "ipython3",
   "version": "3.10.9"
  }
 },
 "nbformat": 4,
 "nbformat_minor": 2
}

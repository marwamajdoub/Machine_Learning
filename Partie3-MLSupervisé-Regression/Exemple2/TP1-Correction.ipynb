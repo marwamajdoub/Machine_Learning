{
 "cells": [
  {
   "cell_type": "code",
   "execution_count": 1,
   "metadata": {},
   "outputs": [
    {
     "name": "stdout",
     "output_type": "stream",
     "text": [
      "<class 'pandas.core.frame.DataFrame'>\n",
      "(545, 2)\n"
     ]
    },
    {
     "data": {
      "text/html": [
       "<div>\n",
       "<style scoped>\n",
       "    .dataframe tbody tr th:only-of-type {\n",
       "        vertical-align: middle;\n",
       "    }\n",
       "\n",
       "    .dataframe tbody tr th {\n",
       "        vertical-align: top;\n",
       "    }\n",
       "\n",
       "    .dataframe thead th {\n",
       "        text-align: right;\n",
       "    }\n",
       "</style>\n",
       "<table border=\"1\" class=\"dataframe\">\n",
       "  <thead>\n",
       "    <tr style=\"text-align: right;\">\n",
       "      <th></th>\n",
       "      <th>loyer</th>\n",
       "      <th>surface</th>\n",
       "    </tr>\n",
       "  </thead>\n",
       "  <tbody>\n",
       "    <tr>\n",
       "      <th>0</th>\n",
       "      <td>1330</td>\n",
       "      <td>37</td>\n",
       "    </tr>\n",
       "    <tr>\n",
       "      <th>1</th>\n",
       "      <td>1400</td>\n",
       "      <td>32</td>\n",
       "    </tr>\n",
       "    <tr>\n",
       "      <th>2</th>\n",
       "      <td>904</td>\n",
       "      <td>26</td>\n",
       "    </tr>\n",
       "    <tr>\n",
       "      <th>3</th>\n",
       "      <td>955</td>\n",
       "      <td>30</td>\n",
       "    </tr>\n",
       "    <tr>\n",
       "      <th>4</th>\n",
       "      <td>2545</td>\n",
       "      <td>70</td>\n",
       "    </tr>\n",
       "    <tr>\n",
       "      <th>5</th>\n",
       "      <td>970</td>\n",
       "      <td>24</td>\n",
       "    </tr>\n",
       "    <tr>\n",
       "      <th>6</th>\n",
       "      <td>1560</td>\n",
       "      <td>41</td>\n",
       "    </tr>\n",
       "    <tr>\n",
       "      <th>7</th>\n",
       "      <td>1960</td>\n",
       "      <td>67</td>\n",
       "    </tr>\n",
       "    <tr>\n",
       "      <th>8</th>\n",
       "      <td>2000</td>\n",
       "      <td>63</td>\n",
       "    </tr>\n",
       "    <tr>\n",
       "      <th>9</th>\n",
       "      <td>2600</td>\n",
       "      <td>70</td>\n",
       "    </tr>\n",
       "  </tbody>\n",
       "</table>\n",
       "</div>"
      ],
      "text/plain": [
       "   loyer  surface\n",
       "0   1330       37\n",
       "1   1400       32\n",
       "2    904       26\n",
       "3    955       30\n",
       "4   2545       70\n",
       "5    970       24\n",
       "6   1560       41\n",
       "7   1960       67\n",
       "8   2000       63\n",
       "9   2600       70"
      ]
     },
     "execution_count": 1,
     "metadata": {},
     "output_type": "execute_result"
    }
   ],
   "source": [
    "# On importe les librairies dont on aura besoin pour ce tp\n",
    "import numpy as np\n",
    "import pandas as pd\n",
    "import matplotlib.pyplot as plt\n",
    "\n",
    "# On charge le dataset\n",
    "house_data = pd.read_csv('house.csv') \n",
    "print(type(house_data)) #un dataframe se comporte comme un dictionnaire dont les clefs sont les noms des colonnes et les valeurs sont des séries.\n",
    "print(house_data.shape) #renvoie la dimension du dataframe sous forme (nombre de lignes, nombre de colonnes)\n",
    "house_data.head(10)#renvoie les  premières lignes"
   ]
  },
  {
   "cell_type": "code",
   "execution_count": 2,
   "metadata": {},
   "outputs": [
    {
     "data": {
      "image/png": "[encoded data removed]",
      "text/plain": [
       "<Figure size 432x288 with 1 Axes>"
      ]
     },
     "metadata": {
      "needs_background": "light"
     },
     "output_type": "display_data"
    }
   ],
   "source": [
    "# On affiche le nuage de points dont on dispose\n",
    "plt.plot(house_data['surface'], house_data['loyer'], 'gx', markersize=3)\n",
    "plt.xlabel('Surface')\n",
    "plt.ylabel('Loyer')\n",
    "plt.show()"
   ]
  },
  {
   "cell_type": "code",
   "execution_count": 10,
   "metadata": {},
   "outputs": [],
   "source": [
    "#La modélisation par une droite de la relation entre la surface  et le loyer qui semble correspondre à une \n",
    "#bonne approxiamation de la liaison mais il faut supprimer les outliers\n",
    "house_data = house_data[house_data['loyer'] < 6000]\n",
    "# On décompose le dataset et on le transforme en matrices pour pouvoir effectuer notre calcul\n",
    "x = np.array([house_data['surface']]).T\n"
   ]
  },
  {
   "cell_type": "code",
   "execution_count": 13,
   "metadata": {},
   "outputs": [
    {
     "name": "stdout",
     "output_type": "stream",
     "text": [
      "(527,)\n",
      "(527, 1)\n"
     ]
    }
   ],
   "source": [
    "X = np.array([house_data['surface'].values,np.ones(house_data.shape[0])]).T\n",
    "y = np.array(house_data['loyer']).T\n",
    "print(y.shape)\n",
    "y=y.reshape(y.shape[0],1)\n",
    "print(y.shape)\n",
    "# On effectue le calcul exact du paramètre theta\n",
    "#theta = np.linalg.inv(X.T.dot(X)).dot(X.T).dot(y)\n",
    "theta=np.random.randn(2,1)\n"
   ]
  },
  {
   "cell_type": "code",
   "execution_count": 5,
   "metadata": {},
   "outputs": [
    {
     "data": {
      "text/plain": [
       "[<matplotlib.lines.Line2D at 0x2d18a4516a0>]"
      ]
     },
     "execution_count": 5,
     "metadata": {},
     "output_type": "execute_result"
    },
    {
     "data": {
      "image/png": "[encoded data removed]",
      "text/plain": [
       "<Figure size 432x288 with 1 Axes>"
      ]
     },
     "metadata": {
      "needs_background": "light"
     },
     "output_type": "display_data"
    }
   ],
   "source": [
    "def model(X,theta):\n",
    "    return X.dot(theta)\n",
    "plt.scatter(x, y)\n",
    "plt.plot(x,model(X,theta),c='r')"
   ]
  },
  {
   "cell_type": "code",
   "execution_count": 6,
   "metadata": {},
   "outputs": [
    {
     "name": "stdout",
     "output_type": "stream",
     "text": [
      "Intercept value [399.45943548]\n",
      "Coef value [[27.74802172]]\n",
      "<class 'numpy.ndarray'>\n",
      "Prediction du loyer pour une surface de  : [[5949.06378045]]\n",
      "Coeff R2 = 0.8432705668623944\n"
     ]
    },
    {
     "data": {
      "text/plain": [
       "(527, 1)"
      ]
     },
     "execution_count": 6,
     "metadata": {},
     "output_type": "execute_result"
    },
    {
     "data": {
      "image/png": "[encoded data removed]",
      "text/plain": [
       "<Figure size 432x288 with 1 Axes>"
      ]
     },
     "metadata": {
      "needs_background": "light"
     },
     "output_type": "display_data"
    }
   ],
   "source": [
    "from sklearn.linear_model import LinearRegression\n",
    "regr = LinearRegression()\n",
    "regr.fit(x, y)\n",
    "print('Intercept value', regr.intercept_)\n",
    "print('Coef value', regr.coef_)\n",
    "plt.scatter(x,y)\n",
    "plt.plot(x, regr.predict(x), c='red', lw = 1)\n",
    "print(type(x))\n",
    "print('Prediction du loyer pour une surface de  :', regr.predict([[200]]))\n",
    "print ('Coeff R2 =',regr.score(x,y))\n",
    "y.shape\n",
    "#regr.predict(<des données de test>)"
   ]
  },
  {
   "cell_type": "code",
   "execution_count": null,
   "metadata": {},
   "outputs": [],
   "source": []
  },
  {
   "cell_type": "code",
   "execution_count": null,
   "metadata": {},
   "outputs": [],
   "source": []
  },
  {
   "cell_type": "code",
   "execution_count": null,
   "metadata": {},
   "outputs": [],
   "source": []
  }
 ],
 "metadata": {
  "kernelspec": {
   "display_name": "Python 3 (ipykernel)",
   "language": "python",
   "name": "python3"
  },
  "language_info": {
   "codemirror_mode": {
    "name": "ipython",
    "version": 3
   },
   "file_extension": ".py",
   "mimetype": "text/x-python",
   "name": "python",
   "nbconvert_exporter": "python",
   "pygments_lexer": "ipython3",
   "version": "3.10.9"
  }
 },
 "nbformat": 4,
 "nbformat_minor": 2
}

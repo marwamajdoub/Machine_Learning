{
 "cells": [
  {
   "cell_type": "code",
   "execution_count": 1,
   "metadata": {},
   "outputs": [],
   "source": [
    "# On importe les librairies dont on aura besoin pour ce tp sachant qu'on va utiliser la base house.csv \n",
    "#importer la bibliothèque pour créer et manipuler des matrices\n",
    "# importer la bibliothèque pour charger/importer les données/dataset\n",
    "#importer la bibliothèque pour visualiser les données\n",
    "\n",
    "\n",
    "# charger le dataset house.csv à l'aide de la fonction read_csv de la bibliothèque pandas\n",
    "\n",
    "#afficher le type de données chargées\n",
    "\n",
    "#afficher la dimension des votre dataset (nombre de lignes, nombre de colonnes)\n",
    "\n",
    "#Afficher les premières lignes"
   ]
  },
  {
   "cell_type": "code",
   "execution_count": 2,
   "metadata": {},
   "outputs": [],
   "source": [
    "# Afficher le nuage de points dont on dispose : la surface en abscisse et le loyer en ordonnées et afficher les étiquettes \n",
    "#de chaque axe\n"
   ]
  },
  {
   "cell_type": "code",
   "execution_count": 3,
   "metadata": {},
   "outputs": [],
   "source": [
    "#Supprimer les outliers dont les valeurs de loyer est supérieur est 6000\n",
    "\n",
    "# Décomposer le dataset et on le transforme en matrices pour pouvoir effectuer notre calcul\n",
    "#Définir la matrice x contenant dans la première colonne les valeurs de la surface et en deuxième colonne le biais\n",
    "\n",
    "#Définir la matrice y contenant dans sa colonne les valeurs du loyers\n",
    "\n",
    "#Afficher la taille des matrices X et y\n",
    "\n",
    "# définir le paramètre theta"
   ]
  },
  {
   "cell_type": "code",
   "execution_count": 4,
   "metadata": {},
   "outputs": [],
   "source": [
    "#définir la fontion model ayant comme paramètres X et Theta et qui renvoie leur produit\n",
    "\n",
    "#Afficher le nuage de points et superposer dessus la droite approximant le nuage\n"
   ]
  },
  {
   "cell_type": "code",
   "execution_count": 6,
   "metadata": {},
   "outputs": [],
   "source": [
    "#créer regr l'objet de regression Linéairevet importer lka bibliothèque nécessaire\n",
    "\n",
    "#Ajuster le modèle en utilisant nos données\n",
    "\n",
    "#Afficher les coefficients du module : intercept et coef value\n",
    "\n",
    "#Afficher le modèle superposé au nuage de point\n",
    "\n",
    "\n",
    "#Prédire la valeur du loyer pour une suerficie de 200\n",
    "\n",
    "#Afficher le coeeficient R2\n"
   ]
  }
 ],
 "metadata": {
  "kernelspec": {
   "display_name": "Python 3",
   "language": "python",
   "name": "python3"
  },
  "language_info": {
   "codemirror_mode": {
    "name": "ipython",
    "version": 3
   },
   "file_extension": ".py",
   "mimetype": "text/x-python",
   "name": "python",
   "nbconvert_exporter": "python",
   "pygments_lexer": "ipython3",
   "version": "3.7.3"
  }
 },
 "nbformat": 4,
 "nbformat_minor": 2
}

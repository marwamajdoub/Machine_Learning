{
 "cells": [
  {
   "cell_type": "markdown",
   "metadata": {
    "id": "Mi63bIwZRqIX"
   },
   "source": [
    "# Régression linéaire pénalisée"
   ]
  },
  {
   "cell_type": "markdown",
   "metadata": {
    "id": "9bv_hmEwRzeB"
   },
   "source": [
    "Dans ce notebook, vous découvrirez comment utiliser la régression linéaire pénalisée L1 (Lasso), L2 (Ridge) et L1 + L2 (Elasticnet).\n",
    "\n",
    "Ces pénalités intégrées à la fonction de coût vous aideront à entraîner des modèles moins complexes pour éviter le sur-apprentissage."
   ]
  },
  {
   "cell_type": "markdown",
   "metadata": {
    "id": "6165F8g5SpVO"
   },
   "source": [
    "# Importation des packages"
   ]
  },
  {
   "cell_type": "code",
   "execution_count": 2,
   "metadata": {
    "id": "OGTNRbpNRgE1"
   },
   "outputs": [],
   "source": [
    "import pandas as pd\n",
    "import seaborn as sns\n",
    "# Importation of the data for our regression example\n",
    "from sklearn.datasets import load_boston\n",
    "\n",
    "# Importation of the function to standardize the data\n",
    "from sklearn.preprocessing import StandardScaler\n",
    "\n",
    "# Importation of the train_test_split function which split randomly our data \n",
    "# into a train and test set\n",
    "from sklearn.model_selection import train_test_split\n",
    "\n",
    "# Importation of the linear regression algorithm\n",
    "from sklearn.linear_model import LinearRegression\n",
    "from sklearn.linear_model import Lasso\n",
    "from sklearn.linear_model import Ridge\n",
    "from sklearn.linear_model import ElasticNet\n",
    "\n",
    "# Importation of the performance metrics\n",
    "from sklearn.metrics import mean_squared_error, mean_absolute_error, r2_score\n",
    "\n",
    "# Importation of the maplotlib package to create graphics\n",
    "import matplotlib.pyplot as plt\n",
    "\n",
    "# Importation of numpy to use of vectors, matrices, tensors.\n",
    "import numpy as np "
   ]
  },
  {
   "cell_type": "markdown",
   "metadata": {
    "id": "pR2icedzSss9"
   },
   "source": [
    "# Importation des données"
   ]
  },
  {
   "cell_type": "code",
   "execution_count": 3,
   "metadata": {
    "colab": {
     "base_uri": "https://localhost:8080/"
    },
    "executionInfo": {
     "elapsed": 186,
     "status": "ok",
     "timestamp": 1649856939449,
     "user": {
      "displayName": "Gautherot Morgan",
      "userId": "07974205866322024288"
     },
     "user_tz": -120
    },
    "id": "mR_YM7z6SuPf",
    "outputId": "9d30f35f-79ce-4e89-9bdd-114c13bbd6e9"
   },
   "outputs": [
    {
     "data": {
      "text/plain": [
       "dict_keys(['data', 'target', 'feature_names', 'DESCR', 'filename'])"
      ]
     },
     "execution_count": 3,
     "metadata": {},
     "output_type": "execute_result"
    }
   ],
   "source": [
    "# Data frame for ou regression example\n",
    "boston = load_boston()\n",
    "boston.keys()"
   ]
  },
  {
   "cell_type": "code",
   "execution_count": 4,
   "metadata": {},
   "outputs": [
    {
     "data": {
      "text/plain": [
       "(506, 13)"
      ]
     },
     "execution_count": 4,
     "metadata": {},
     "output_type": "execute_result"
    }
   ],
   "source": [
    "boston['data'].shape"
   ]
  },
  {
   "cell_type": "code",
   "execution_count": 5,
   "metadata": {},
   "outputs": [
    {
     "data": {
      "text/plain": [
       "array(['CRIM', 'ZN', 'INDUS', 'CHAS', 'NOX', 'RM', 'AGE', 'DIS', 'RAD',\n",
       "       'TAX', 'PTRATIO', 'B', 'LSTAT'], dtype='<U7')"
      ]
     },
     "execution_count": 5,
     "metadata": {},
     "output_type": "execute_result"
    }
   ],
   "source": [
    "boston['feature_names']\n"
   ]
  },
  {
   "cell_type": "code",
   "execution_count": 6,
   "metadata": {},
   "outputs": [
    {
     "data": {
      "text/html": [
       "<div>\n",
       "<style scoped>\n",
       "    .dataframe tbody tr th:only-of-type {\n",
       "        vertical-align: middle;\n",
       "    }\n",
       "\n",
       "    .dataframe tbody tr th {\n",
       "        vertical-align: top;\n",
       "    }\n",
       "\n",
       "    .dataframe thead th {\n",
       "        text-align: right;\n",
       "    }\n",
       "</style>\n",
       "<table border=\"1\" class=\"dataframe\">\n",
       "  <thead>\n",
       "    <tr style=\"text-align: right;\">\n",
       "      <th></th>\n",
       "      <th>0</th>\n",
       "      <th>1</th>\n",
       "      <th>2</th>\n",
       "      <th>3</th>\n",
       "      <th>4</th>\n",
       "      <th>5</th>\n",
       "      <th>6</th>\n",
       "      <th>7</th>\n",
       "      <th>8</th>\n",
       "      <th>9</th>\n",
       "      <th>10</th>\n",
       "      <th>11</th>\n",
       "      <th>12</th>\n",
       "    </tr>\n",
       "  </thead>\n",
       "  <tbody>\n",
       "    <tr>\n",
       "      <th>0</th>\n",
       "      <td>0.00632</td>\n",
       "      <td>18.0</td>\n",
       "      <td>2.31</td>\n",
       "      <td>0.0</td>\n",
       "      <td>0.538</td>\n",
       "      <td>6.575</td>\n",
       "      <td>65.2</td>\n",
       "      <td>4.0900</td>\n",
       "      <td>1.0</td>\n",
       "      <td>296.0</td>\n",
       "      <td>15.3</td>\n",
       "      <td>396.90</td>\n",
       "      <td>4.98</td>\n",
       "    </tr>\n",
       "    <tr>\n",
       "      <th>1</th>\n",
       "      <td>0.02731</td>\n",
       "      <td>0.0</td>\n",
       "      <td>7.07</td>\n",
       "      <td>0.0</td>\n",
       "      <td>0.469</td>\n",
       "      <td>6.421</td>\n",
       "      <td>78.9</td>\n",
       "      <td>4.9671</td>\n",
       "      <td>2.0</td>\n",
       "      <td>242.0</td>\n",
       "      <td>17.8</td>\n",
       "      <td>396.90</td>\n",
       "      <td>9.14</td>\n",
       "    </tr>\n",
       "    <tr>\n",
       "      <th>2</th>\n",
       "      <td>0.02729</td>\n",
       "      <td>0.0</td>\n",
       "      <td>7.07</td>\n",
       "      <td>0.0</td>\n",
       "      <td>0.469</td>\n",
       "      <td>7.185</td>\n",
       "      <td>61.1</td>\n",
       "      <td>4.9671</td>\n",
       "      <td>2.0</td>\n",
       "      <td>242.0</td>\n",
       "      <td>17.8</td>\n",
       "      <td>392.83</td>\n",
       "      <td>4.03</td>\n",
       "    </tr>\n",
       "    <tr>\n",
       "      <th>3</th>\n",
       "      <td>0.03237</td>\n",
       "      <td>0.0</td>\n",
       "      <td>2.18</td>\n",
       "      <td>0.0</td>\n",
       "      <td>0.458</td>\n",
       "      <td>6.998</td>\n",
       "      <td>45.8</td>\n",
       "      <td>6.0622</td>\n",
       "      <td>3.0</td>\n",
       "      <td>222.0</td>\n",
       "      <td>18.7</td>\n",
       "      <td>394.63</td>\n",
       "      <td>2.94</td>\n",
       "    </tr>\n",
       "    <tr>\n",
       "      <th>4</th>\n",
       "      <td>0.06905</td>\n",
       "      <td>0.0</td>\n",
       "      <td>2.18</td>\n",
       "      <td>0.0</td>\n",
       "      <td>0.458</td>\n",
       "      <td>7.147</td>\n",
       "      <td>54.2</td>\n",
       "      <td>6.0622</td>\n",
       "      <td>3.0</td>\n",
       "      <td>222.0</td>\n",
       "      <td>18.7</td>\n",
       "      <td>396.90</td>\n",
       "      <td>5.33</td>\n",
       "    </tr>\n",
       "  </tbody>\n",
       "</table>\n",
       "</div>"
      ],
      "text/plain": [
       "        0     1     2    3      4      5     6       7    8      9     10  \\\n",
       "0  0.00632  18.0  2.31  0.0  0.538  6.575  65.2  4.0900  1.0  296.0  15.3   \n",
       "1  0.02731   0.0  7.07  0.0  0.469  6.421  78.9  4.9671  2.0  242.0  17.8   \n",
       "2  0.02729   0.0  7.07  0.0  0.469  7.185  61.1  4.9671  2.0  242.0  17.8   \n",
       "3  0.03237   0.0  2.18  0.0  0.458  6.998  45.8  6.0622  3.0  222.0  18.7   \n",
       "4  0.06905   0.0  2.18  0.0  0.458  7.147  54.2  6.0622  3.0  222.0  18.7   \n",
       "\n",
       "       11    12  \n",
       "0  396.90  4.98  \n",
       "1  396.90  9.14  \n",
       "2  392.83  4.03  \n",
       "3  394.63  2.94  \n",
       "4  396.90  5.33  "
      ]
     },
     "execution_count": 6,
     "metadata": {},
     "output_type": "execute_result"
    }
   ],
   "source": [
    "BostonData = pd.DataFrame(boston['data'])\n",
    "BostonData.head()"
   ]
  },
  {
   "cell_type": "code",
   "execution_count": 7,
   "metadata": {},
   "outputs": [
    {
     "data": {
      "text/html": [
       "<div>\n",
       "<style scoped>\n",
       "    .dataframe tbody tr th:only-of-type {\n",
       "        vertical-align: middle;\n",
       "    }\n",
       "\n",
       "    .dataframe tbody tr th {\n",
       "        vertical-align: top;\n",
       "    }\n",
       "\n",
       "    .dataframe thead th {\n",
       "        text-align: right;\n",
       "    }\n",
       "</style>\n",
       "<table border=\"1\" class=\"dataframe\">\n",
       "  <thead>\n",
       "    <tr style=\"text-align: right;\">\n",
       "      <th></th>\n",
       "      <th>CRIM</th>\n",
       "      <th>ZN</th>\n",
       "      <th>INDUS</th>\n",
       "      <th>CHAS</th>\n",
       "      <th>NOX</th>\n",
       "      <th>RM</th>\n",
       "      <th>AGE</th>\n",
       "      <th>DIS</th>\n",
       "      <th>RAD</th>\n",
       "      <th>TAX</th>\n",
       "      <th>PTRATIO</th>\n",
       "      <th>B</th>\n",
       "      <th>LSTAT</th>\n",
       "    </tr>\n",
       "  </thead>\n",
       "  <tbody>\n",
       "    <tr>\n",
       "      <th>0</th>\n",
       "      <td>0.00632</td>\n",
       "      <td>18.0</td>\n",
       "      <td>2.31</td>\n",
       "      <td>0.0</td>\n",
       "      <td>0.538</td>\n",
       "      <td>6.575</td>\n",
       "      <td>65.2</td>\n",
       "      <td>4.0900</td>\n",
       "      <td>1.0</td>\n",
       "      <td>296.0</td>\n",
       "      <td>15.3</td>\n",
       "      <td>396.90</td>\n",
       "      <td>4.98</td>\n",
       "    </tr>\n",
       "    <tr>\n",
       "      <th>1</th>\n",
       "      <td>0.02731</td>\n",
       "      <td>0.0</td>\n",
       "      <td>7.07</td>\n",
       "      <td>0.0</td>\n",
       "      <td>0.469</td>\n",
       "      <td>6.421</td>\n",
       "      <td>78.9</td>\n",
       "      <td>4.9671</td>\n",
       "      <td>2.0</td>\n",
       "      <td>242.0</td>\n",
       "      <td>17.8</td>\n",
       "      <td>396.90</td>\n",
       "      <td>9.14</td>\n",
       "    </tr>\n",
       "    <tr>\n",
       "      <th>2</th>\n",
       "      <td>0.02729</td>\n",
       "      <td>0.0</td>\n",
       "      <td>7.07</td>\n",
       "      <td>0.0</td>\n",
       "      <td>0.469</td>\n",
       "      <td>7.185</td>\n",
       "      <td>61.1</td>\n",
       "      <td>4.9671</td>\n",
       "      <td>2.0</td>\n",
       "      <td>242.0</td>\n",
       "      <td>17.8</td>\n",
       "      <td>392.83</td>\n",
       "      <td>4.03</td>\n",
       "    </tr>\n",
       "    <tr>\n",
       "      <th>3</th>\n",
       "      <td>0.03237</td>\n",
       "      <td>0.0</td>\n",
       "      <td>2.18</td>\n",
       "      <td>0.0</td>\n",
       "      <td>0.458</td>\n",
       "      <td>6.998</td>\n",
       "      <td>45.8</td>\n",
       "      <td>6.0622</td>\n",
       "      <td>3.0</td>\n",
       "      <td>222.0</td>\n",
       "      <td>18.7</td>\n",
       "      <td>394.63</td>\n",
       "      <td>2.94</td>\n",
       "    </tr>\n",
       "    <tr>\n",
       "      <th>4</th>\n",
       "      <td>0.06905</td>\n",
       "      <td>0.0</td>\n",
       "      <td>2.18</td>\n",
       "      <td>0.0</td>\n",
       "      <td>0.458</td>\n",
       "      <td>7.147</td>\n",
       "      <td>54.2</td>\n",
       "      <td>6.0622</td>\n",
       "      <td>3.0</td>\n",
       "      <td>222.0</td>\n",
       "      <td>18.7</td>\n",
       "      <td>396.90</td>\n",
       "      <td>5.33</td>\n",
       "    </tr>\n",
       "  </tbody>\n",
       "</table>\n",
       "</div>"
      ],
      "text/plain": [
       "      CRIM    ZN  INDUS  CHAS    NOX     RM   AGE     DIS  RAD    TAX  \\\n",
       "0  0.00632  18.0   2.31   0.0  0.538  6.575  65.2  4.0900  1.0  296.0   \n",
       "1  0.02731   0.0   7.07   0.0  0.469  6.421  78.9  4.9671  2.0  242.0   \n",
       "2  0.02729   0.0   7.07   0.0  0.469  7.185  61.1  4.9671  2.0  242.0   \n",
       "3  0.03237   0.0   2.18   0.0  0.458  6.998  45.8  6.0622  3.0  222.0   \n",
       "4  0.06905   0.0   2.18   0.0  0.458  7.147  54.2  6.0622  3.0  222.0   \n",
       "\n",
       "   PTRATIO       B  LSTAT  \n",
       "0     15.3  396.90   4.98  \n",
       "1     17.8  396.90   9.14  \n",
       "2     17.8  392.83   4.03  \n",
       "3     18.7  394.63   2.94  \n",
       "4     18.7  396.90   5.33  "
      ]
     },
     "execution_count": 7,
     "metadata": {},
     "output_type": "execute_result"
    }
   ],
   "source": [
    "BostonData = pd.DataFrame(boston['data'],columns=boston['feature_names'])\n",
    "BostonData.head(5)"
   ]
  },
  {
   "cell_type": "code",
   "execution_count": 8,
   "metadata": {},
   "outputs": [
    {
     "data": {
      "text/plain": [
       "(506, 13)"
      ]
     },
     "execution_count": 8,
     "metadata": {},
     "output_type": "execute_result"
    }
   ],
   "source": [
    "BostonData.shape"
   ]
  },
  {
   "cell_type": "code",
   "execution_count": 10,
   "metadata": {},
   "outputs": [
    {
     "name": "stdout",
     "output_type": "stream",
     "text": [
      ".. _boston_dataset:\n",
      "\n",
      "Boston house prices dataset\n",
      "---------------------------\n",
      "\n",
      "**Data Set Characteristics:**  \n",
      "\n",
      "    :Number of Instances: 506 \n",
      "\n",
      "    :Number of Attributes: 13 numeric/categorical predictive. Median Value (attribute 14) is usually the target.\n",
      "\n",
      "    :Attribute Information (in order):\n",
      "        - CRIM     per capita crime rate by town\n",
      "        - ZN       proportion of residential land zoned for lots over 25,000 sq.ft.\n",
      "        - INDUS    proportion of non-retail business acres per town\n",
      "        - CHAS     Charles River dummy variable (= 1 if tract bounds river; 0 otherwise)\n",
      "        - NOX      nitric oxides concentration (parts per 10 million)\n",
      "        - RM       average number of rooms per dwelling\n",
      "        - AGE      proportion of owner-occupied units built prior to 1940\n",
      "        - DIS      weighted distances to five Boston employment centres\n",
      "        - RAD      index of accessibility to radial highways\n",
      "        - TAX      full-value property-tax rate per $10,000\n",
      "        - PTRATIO  pupil-teacher ratio by town\n",
      "        - B        1000(Bk - 0.63)^2 where Bk is the proportion of blacks by town\n",
      "        - LSTAT    % lower status of the population\n",
      "        - MEDV     Median value of owner-occupied homes in $1000's\n",
      "\n",
      "    :Missing Attribute Values: None\n",
      "\n",
      "    :Creator: Harrison, D. and Rubinfeld, D.L.\n",
      "\n",
      "This is a copy of UCI ML housing dataset.\n",
      "https://archive.ics.uci.edu/ml/machine-learning-databases/housing/\n",
      "\n",
      "\n",
      "This dataset was taken from the StatLib library which is maintained at Carnegie Mellon University.\n",
      "\n",
      "The Boston house-price data of Harrison, D. and Rubinfeld, D.L. 'Hedonic\n",
      "prices and the demand for clean air', J. Environ. Economics & Management,\n",
      "vol.5, 81-102, 1978.   Used in Belsley, Kuh & Welsch, 'Regression diagnostics\n",
      "...', Wiley, 1980.   N.B. Various transformations are used in the table on\n",
      "pages 244-261 of the latter.\n",
      "\n",
      "The Boston house-price data has been used in many machine learning papers that address regression\n",
      "problems.   \n",
      "     \n",
      ".. topic:: References\n",
      "\n",
      "   - Belsley, Kuh & Welsch, 'Regression diagnostics: Identifying Influential Data and Sources of Collinearity', Wiley, 1980. 244-261.\n",
      "   - Quinlan,R. (1993). Combining Instance-Based and Model-Based Learning. In Proceedings on the Tenth International Conference of Machine Learning, 236-243, University of Massachusetts, Amherst. Morgan Kaufmann.\n",
      "\n"
     ]
    }
   ],
   "source": [
    "print(boston.DESCR)"
   ]
  },
  {
   "cell_type": "code",
   "execution_count": null,
   "metadata": {},
   "outputs": [],
   "source": [
    "BostonData['MEDV'] = boston.target"
   ]
  },
  {
   "cell_type": "code",
   "execution_count": null,
   "metadata": {},
   "outputs": [],
   "source": [
    "boston['target'].shape"
   ]
  },
  {
   "cell_type": "code",
   "execution_count": null,
   "metadata": {},
   "outputs": [],
   "source": [
    "BostonData.isnull().sum()"
   ]
  },
  {
   "cell_type": "code",
   "execution_count": null,
   "metadata": {},
   "outputs": [],
   "source": [
    "sns.set(rc={'figure.figsize':(11.7,8.27)})\n",
    "sns.distplot(BostonData['MEDV'], bins=30)\n",
    "plt.show()"
   ]
  },
  {
   "cell_type": "raw",
   "metadata": {},
   "source": [
    "Ce code utilise la bibliothèque seaborn pour tracer la distribution de la variable cible MEDV (prix moyen des maisons) dans le jeu de données de Boston. La fonction distplot est utilisée pour tracer la distribution en utilisant 30 bins (intervalles) pour regrouper les données. La taille du graphique est définie en utilisant le paramètre rc et la fonction plt.show est utilisée pour afficher le graphique.\n",
    "\n",
    "Le résultat montre la distribution de la variable MEDV sous forme de courbe de densité. On peut voir que la plupart des prix des maisons se situent entre 15 000 et 50 000 dollars, avec un pic autour de 20 000 dollars. Il y a également quelques prix extrêmement élevés (probablement des maisons de luxe), mais ils sont rares."
   ]
  },
  {
   "cell_type": "code",
   "execution_count": null,
   "metadata": {
    "scrolled": true
   },
   "outputs": [],
   "source": [
    "sns.scatterplot(x='LSTAT', y='MEDV', data=BostonData)\n",
    "plt.show()"
   ]
  },
  {
   "cell_type": "code",
   "execution_count": null,
   "metadata": {},
   "outputs": [],
   "source": [
    "\n",
    "correlation_matrix = BostonData.corr()\n",
    "# annot = True to print the values inside the square\n",
    "sns.heatmap(data=correlation_matrix, annot=True)"
   ]
  },
  {
   "cell_type": "raw",
   "metadata": {},
   "source": [
    "Le coefficient de corrélation va de -1 à 1. Si la valeur est proche de 1, cela signifie qu'il existe une forte corrélation positive entre les deux variables. Lorsqu'elle est proche de -1, les variables ont une forte corrélation négative.\n",
    "\n",
    "\n",
    "Pour ajuster un modèle de régression linéaire, il faut sélectionner les caractéristiques qui ont une forte corrélation avec notre variable cible MEDV. En regardant la matrice de corrélation, nous pouvons voir que RM a une forte corrélation positive avec MEDV (0,7) tandis que LSTAT a une forte corrélation négative avec MEDV (-0,74).\n",
    "Un point important dans la sélection des caractéristiques pour un modèle de régression linéaire est de vérifier la multi-colinéarité. Les caractéristiques RAD, TAX ont une corrélation de 0,91. Ces paires de caractéristiques sont fortement corrélées entre elles. Nous ne devrions pas sélectionner toutes ces caractéristiques ensemble pour l'entraînement du modèle. Il en va de même pour les caractéristiques DIS et AGE qui ont une corrélation de -0,75."
   ]
  },
  {
   "cell_type": "code",
   "execution_count": null,
   "metadata": {},
   "outputs": [],
   "source": [
    "X_reg = boston.data[:,]\n",
    "y_reg = boston.target\n",
    "X_reg.shape"
   ]
  },
  {
   "cell_type": "code",
   "execution_count": null,
   "metadata": {},
   "outputs": [],
   "source": [
    "\n",
    "X_reg = pd.DataFrame(np.c_[BostonData['LSTAT'], BostonData['RM']], columns = ['LSTAT','RM'])\n",
    "y_reg = BostonData['MEDV']\n",
    "X_reg.shape"
   ]
  },
  {
   "cell_type": "markdown",
   "metadata": {
    "id": "loBVRk-bSyOw"
   },
   "source": [
    "Si vous avez des questions à propos de la fonction *train_test_split* n'hésitez pas à consulter la [doc](https://scikit-learn.org/stable/modules/generated/sklearn.model_selection.train_test_split.html)."
   ]
  },
  {
   "cell_type": "code",
   "execution_count": null,
   "metadata": {
    "executionInfo": {
     "elapsed": 170,
     "status": "ok",
     "timestamp": 1649856942021,
     "user": {
      "displayName": "Gautherot Morgan",
      "userId": "07974205866322024288"
     },
     "user_tz": -120
    },
    "id": "TyeO9fCgS7tn"
   },
   "outputs": [],
   "source": [
    "# Use the function train_test_split to create your train and test set\n",
    "X_train_reg, X_test_reg, y_train_reg, y_test_reg = train_test_split(X_reg, y_reg, \n",
    "                                                                    test_size=0.10, \n",
    "                                                                    random_state=123)"
   ]
  },
  {
   "cell_type": "markdown",
   "metadata": {
    "id": "ZkMjV7hLWnQK"
   },
   "source": [
    "# Normalisation des données\n",
    "\n",
    "Si vous avez des questions à propos de la fonction *StandardScaler* n'hésitez pas à consulter la [doc](https://scikit-learn.org/stable/modules/generated/sklearn.preprocessing.StandardScaler.html)."
   ]
  },
  {
   "cell_type": "code",
   "execution_count": null,
   "metadata": {
    "executionInfo": {
     "elapsed": 466,
     "status": "ok",
     "timestamp": 1649856946134,
     "user": {
      "displayName": "Gautherot Morgan",
      "userId": "07974205866322024288"
     },
     "user_tz": -120
    },
    "id": "bNhI9DkXWq_s"
   },
   "outputs": [],
   "source": [
    "# Initialize the StandardScaler function\n",
    "scaler = StandardScaler()\n",
    "\n",
    "# Fit the StandardScaler on the trainig set\n",
    "scaler.fit(X_train_reg)\n",
    "\n",
    "# Standardization of the training set\n",
    "X_train_reg_norm = scaler.transform(X_train_reg)\n",
    "\n",
    "# Standardization of the validation set\n",
    "X_test_reg_norm = scaler.transform(X_test_reg)"
   ]
  },
  {
   "cell_type": "markdown",
   "metadata": {
    "id": "GO0eskyBXDHn"
   },
   "source": [
    "# Initialisation des modèles"
   ]
  },
  {
   "cell_type": "code",
   "execution_count": null,
   "metadata": {
    "executionInfo": {
     "elapsed": 265,
     "status": "ok",
     "timestamp": 1649857054778,
     "user": {
      "displayName": "Gautherot Morgan",
      "userId": "07974205866322024288"
     },
     "user_tz": -120
    },
    "id": "LnHO1Y6-W_1B"
   },
   "outputs": [],
   "source": [
    "reg = LinearRegression()"
   ]
  },
  {
   "cell_type": "markdown",
   "metadata": {
    "id": "dYFJhEGdXNKw"
   },
   "source": [
    "Fonction de coût de la régression Lasso :\n",
    "\n",
    "$ J(w) =  \\frac{1}{2m}[\\sum^m_{i=1}(\\hat{y}^{(i)}-y^{(i)})^2+\\alpha\\sum^n_{j=1}|w_j|$ \n",
    "\n"
   ]
  },
  {
   "cell_type": "code",
   "execution_count": null,
   "metadata": {
    "executionInfo": {
     "elapsed": 2,
     "status": "ok",
     "timestamp": 1649857055041,
     "user": {
      "displayName": "Gautherot Morgan",
      "userId": "07974205866322024288"
     },
     "user_tz": -120
    },
    "id": "Gd9OqjhcXO2P"
   },
   "outputs": [],
   "source": [
    "lasso = Lasso(alpha=0.2, random_state=123)"
   ]
  },
  {
   "cell_type": "markdown",
   "metadata": {
    "id": "DdAWl4biXQWE"
   },
   "source": [
    "Fonction de coût de la régression Ridge :\n",
    "\n",
    "$ J(w) =  \\frac{1}{2m}[\\sum^m_{i=1}(\\hat{y}^{(i)}-y^{(i)})^2+\\alpha\\sum^n_{j=1}w_j^2$ \n",
    "\n"
   ]
  },
  {
   "cell_type": "code",
   "execution_count": null,
   "metadata": {
    "executionInfo": {
     "elapsed": 2,
     "status": "ok",
     "timestamp": 1649857055517,
     "user": {
      "displayName": "Gautherot Morgan",
      "userId": "07974205866322024288"
     },
     "user_tz": -120
    },
    "id": "GjL9ifDFXQ6e"
   },
   "outputs": [],
   "source": [
    "ridge = Ridge(alpha=0.2, random_state=123)"
   ]
  },
  {
   "cell_type": "markdown",
   "metadata": {
    "id": "y50zJR2zXRcd"
   },
   "source": [
    "Fonction de coût de la régression ElasticNet :\n",
    "\n",
    "$ J(w) =  \\frac{1}{2m}[\\sum^m_{i=1}(\\hat{y}^{(i)}-y^{(i)})^2+\\alpha[\\frac{1-l1\\_ratio}{2}\\sum^n_{j=1}w_j^2 + l1\\_ratio\\sum^n_{j=1}|w_j|]]$ \n",
    "\n"
   ]
  },
  {
   "cell_type": "code",
   "execution_count": null,
   "metadata": {
    "executionInfo": {
     "elapsed": 1,
     "status": "ok",
     "timestamp": 1649857056340,
     "user": {
      "displayName": "Gautherot Morgan",
      "userId": "07974205866322024288"
     },
     "user_tz": -120
    },
    "id": "1UBh-J23XRr_"
   },
   "outputs": [],
   "source": [
    "elasticnet = ElasticNet(alpha=0.2, l1_ratio=0.5, random_state=123)"
   ]
  },
  {
   "cell_type": "markdown",
   "metadata": {
    "id": "Aa_W0KgA8ckm"
   },
   "source": [
    "# Entraînement des modèles"
   ]
  },
  {
   "cell_type": "code",
   "execution_count": null,
   "metadata": {
    "colab": {
     "base_uri": "https://localhost:8080/"
    },
    "executionInfo": {
     "elapsed": 257,
     "status": "ok",
     "timestamp": 1649857064920,
     "user": {
      "displayName": "Gautherot Morgan",
      "userId": "07974205866322024288"
     },
     "user_tz": -120
    },
    "id": "jeabnIY1mYRx",
    "outputId": "6607ef8e-a9f6-4bb3-ece8-60de496c359a"
   },
   "outputs": [],
   "source": [
    "# Classic linear regression\n",
    "reg.fit(X_train_reg_norm, y_train_reg)"
   ]
  },
  {
   "cell_type": "code",
   "execution_count": null,
   "metadata": {
    "colab": {
     "base_uri": "https://localhost:8080/"
    },
    "executionInfo": {
     "elapsed": 1,
     "status": "ok",
     "timestamp": 1649857065169,
     "user": {
      "displayName": "Gautherot Morgan",
      "userId": "07974205866322024288"
     },
     "user_tz": -120
    },
    "id": "XwaJMN79mZRc",
    "outputId": "c0cbbb52-9c7e-4b6d-bdc9-7a3dd6000e9c"
   },
   "outputs": [],
   "source": [
    "# Lasso regression\n",
    "lasso.fit(X_train_reg_norm, y_train_reg)"
   ]
  },
  {
   "cell_type": "code",
   "execution_count": null,
   "metadata": {
    "colab": {
     "base_uri": "https://localhost:8080/"
    },
    "executionInfo": {
     "elapsed": 2,
     "status": "ok",
     "timestamp": 1649857065445,
     "user": {
      "displayName": "Gautherot Morgan",
      "userId": "07974205866322024288"
     },
     "user_tz": -120
    },
    "id": "KadiiuyRmZgT",
    "outputId": "3d0d927a-b59d-4abb-a917-a0a5c593b975"
   },
   "outputs": [],
   "source": [
    "# Ridge regression\n",
    "ridge.fit(X_train_reg_norm, y_train_reg)"
   ]
  },
  {
   "cell_type": "code",
   "execution_count": null,
   "metadata": {
    "colab": {
     "base_uri": "https://localhost:8080/"
    },
    "executionInfo": {
     "elapsed": 2,
     "status": "ok",
     "timestamp": 1649857065625,
     "user": {
      "displayName": "Gautherot Morgan",
      "userId": "07974205866322024288"
     },
     "user_tz": -120
    },
    "id": "-klrFThemZxG",
    "outputId": "635a1186-4ca6-432c-d240-ef5c3c9948b2"
   },
   "outputs": [],
   "source": [
    "# ElasticNet regression\n",
    "elasticnet.fit(X_train_reg_norm, y_train_reg)"
   ]
  },
  {
   "cell_type": "markdown",
   "metadata": {
    "id": "NnfEUR7W8hoj"
   },
   "source": [
    "# Validation des modèles"
   ]
  },
  {
   "cell_type": "code",
   "execution_count": null,
   "metadata": {
    "executionInfo": {
     "elapsed": 169,
     "status": "ok",
     "timestamp": 1649857078404,
     "user": {
      "displayName": "Gautherot Morgan",
      "userId": "07974205866322024288"
     },
     "user_tz": -120
    },
    "id": "SiojbymLmyaa"
   },
   "outputs": [],
   "source": [
    "# Classic linear regression\n",
    "y_train_reg_prediction = reg.predict(X_train_reg_norm)\n",
    "\n",
    "y_test_reg_prediction = reg.predict(X_test_reg_norm)"
   ]
  },
  {
   "cell_type": "code",
   "execution_count": null,
   "metadata": {
    "executionInfo": {
     "elapsed": 1,
     "status": "ok",
     "timestamp": 1649857079145,
     "user": {
      "displayName": "Gautherot Morgan",
      "userId": "07974205866322024288"
     },
     "user_tz": -120
    },
    "id": "MOkNCCvjmyTN"
   },
   "outputs": [],
   "source": [
    "# Lasso regression\n",
    "y_train_lasso_prediction = lasso.predict(X_train_reg_norm)\n",
    "\n",
    "y_test_lasso_prediction = lasso.predict(X_test_reg_norm)"
   ]
  },
  {
   "cell_type": "code",
   "execution_count": null,
   "metadata": {
    "executionInfo": {
     "elapsed": 166,
     "status": "ok",
     "timestamp": 1649857080218,
     "user": {
      "displayName": "Gautherot Morgan",
      "userId": "07974205866322024288"
     },
     "user_tz": -120
    },
    "id": "WmBIISUImyMw"
   },
   "outputs": [],
   "source": [
    "# Ridge regression\n",
    "y_train_ridge_prediction = ridge.predict(X_train_reg_norm)\n",
    "\n",
    "y_test_ridge_prediction = ridge.predict(X_test_reg_norm)"
   ]
  },
  {
   "cell_type": "code",
   "execution_count": null,
   "metadata": {
    "executionInfo": {
     "elapsed": 1,
     "status": "ok",
     "timestamp": 1649857080931,
     "user": {
      "displayName": "Gautherot Morgan",
      "userId": "07974205866322024288"
     },
     "user_tz": -120
    },
    "id": "EwNW7i3LmyFy"
   },
   "outputs": [],
   "source": [
    "# ElasticNet regression\n",
    "y_train_elasticnet_prediction = elasticnet.predict(X_train_reg_norm)\n",
    "\n",
    "y_test_elasticnet_prediction = elasticnet.predict(X_test_reg_norm)"
   ]
  },
  {
   "cell_type": "markdown",
   "metadata": {
    "id": "nhMntqu3nLXg"
   },
   "source": [
    "Calculer l'erreur absolue moyenne pour chaque modèle."
   ]
  },
  {
   "cell_type": "code",
   "execution_count": null,
   "metadata": {
    "colab": {
     "base_uri": "https://localhost:8080/"
    },
    "executionInfo": {
     "elapsed": 174,
     "status": "ok",
     "timestamp": 1649857089072,
     "user": {
      "displayName": "Gautherot Morgan",
      "userId": "07974205866322024288"
     },
     "user_tz": -120
    },
    "id": "3laSbjqQnRuU",
    "outputId": "5b4fcb45-5924-4c89-82a0-1ac401057cac"
   },
   "outputs": [],
   "source": [
    "# Classic linear regression\n",
    "mae_train_reg = mean_absolute_error(y_train_reg_prediction, y_train_reg)\n",
    "\n",
    "mae_test_reg = mean_absolute_error(y_test_reg_prediction, y_test_reg)\n",
    "\n",
    "print('MAE for the training set : '+str(mae_train_reg))\n",
    "\n",
    "print('MAE for the testing set : '+str(mae_test_reg))\n",
    "\n",
    "\n",
    "rmse = (np.sqrt(mean_squared_error(y_train_reg, y_train_reg_prediction)))\n",
    "r2 = r2_score(y_train_reg, y_train_reg_prediction)\n",
    "\n",
    "print(\"The model performance for training set\")\n",
    "print(\"--------------------------------------\")\n",
    "print('RMSE is {}'.format(rmse))\n",
    "print('R2 score is {}'.format(r2))\n",
    "print(\"\\n\")\n",
    "\n",
    "# model evaluation for testing set\n",
    "\n",
    "rmse = (np.sqrt(mean_squared_error(y_test_reg,y_test_reg_prediction)))\n",
    "r2 = r2_score(y_test_reg,y_test_reg_prediction)\n",
    "\n",
    "print(\"The model performance for testing set\")\n",
    "print(\"--------------------------------------\")\n",
    "print('RMSE is {}'.format(rmse))\n",
    "print('R2 score is {}'.format(r2))\n",
    "\n"
   ]
  },
  {
   "cell_type": "code",
   "execution_count": null,
   "metadata": {
    "colab": {
     "base_uri": "https://localhost:8080/"
    },
    "executionInfo": {
     "elapsed": 1,
     "status": "ok",
     "timestamp": 1649857089635,
     "user": {
      "displayName": "Gautherot Morgan",
      "userId": "07974205866322024288"
     },
     "user_tz": -120
    },
    "id": "8XUQ18VonRoP",
    "outputId": "a4ef017e-3ffe-48e0-885d-38337a7b2018"
   },
   "outputs": [],
   "source": [
    "# Lasso regression\n",
    "mae_train_lasso = mean_absolute_error(y_train_lasso_prediction, y_train_reg)\n",
    "\n",
    "mae_test_lasso = mean_absolute_error(y_test_lasso_prediction, y_test_reg)\n",
    "\n",
    "print('MAE for the training set : '+str(mae_train_lasso))\n",
    "\n",
    "print('MAE for the testing set : '+str(mae_test_lasso))"
   ]
  },
  {
   "cell_type": "code",
   "execution_count": null,
   "metadata": {
    "colab": {
     "base_uri": "https://localhost:8080/"
    },
    "executionInfo": {
     "elapsed": 2,
     "status": "ok",
     "timestamp": 1649857090292,
     "user": {
      "displayName": "Gautherot Morgan",
      "userId": "07974205866322024288"
     },
     "user_tz": -120
    },
    "id": "tMNYDhdLnRiE",
    "outputId": "98687fdd-2fee-4621-e047-021ac254d228"
   },
   "outputs": [],
   "source": [
    "# Ridge regression\n",
    "mae_train_ridge = mean_absolute_error(y_train_ridge_prediction, y_train_reg)\n",
    "\n",
    "mae_test_ridge = mean_absolute_error(y_test_ridge_prediction, y_test_reg)\n",
    "\n",
    "print('MAE for the training set : '+str(mae_train_ridge))\n",
    "\n",
    "print('MAE for the testing set : '+str(mae_test_ridge))"
   ]
  },
  {
   "cell_type": "code",
   "execution_count": null,
   "metadata": {
    "colab": {
     "base_uri": "https://localhost:8080/"
    },
    "executionInfo": {
     "elapsed": 2,
     "status": "ok",
     "timestamp": 1649857091135,
     "user": {
      "displayName": "Gautherot Morgan",
      "userId": "07974205866322024288"
     },
     "user_tz": -120
    },
    "id": "KR50bGBBnRcW",
    "outputId": "c25eb4d0-e626-4e28-dddc-5005fd007b90"
   },
   "outputs": [],
   "source": [
    "# ElasticNet regression\n",
    "mae_train_elasticnet = mean_absolute_error(y_train_elasticnet_prediction, y_train_reg)\n",
    "\n",
    "mae_test_elasticnet = mean_absolute_error(y_test_elasticnet_prediction, y_test_reg)\n",
    "\n",
    "print('MAE for the training set : '+str(mae_train_elasticnet))\n",
    "\n",
    "print('MAE for the testing set : '+str(mae_test_elasticnet))"
   ]
  },
  {
   "cell_type": "code",
   "execution_count": null,
   "metadata": {},
   "outputs": [],
   "source": [
    "for alpha_values in [0.1, 0.2, 0.5, 1, 10] :\n",
    "  lasso = Lasso(alpha=alpha_values, random_state=123)\n",
    "  lasso.fit(X_train_reg_norm, y_train_reg)\n",
    "  print('Alpha = '+str(alpha_values))\n",
    "  print(lasso.coef_)"
   ]
  },
  {
   "cell_type": "code",
   "execution_count": null,
   "metadata": {},
   "outputs": [],
   "source": [
    "for alpha_values in [0.1, 1, 10, 10000000000] :\n",
    "  ridge = Ridge(alpha=alpha_values, random_state=123)\n",
    "  ridge.fit(X_train_reg_norm, y_train_reg)\n",
    "  print('Alpha = '+str(alpha_values))\n",
    "  print(ridge.coef_)"
   ]
  },
  {
   "cell_type": "code",
   "execution_count": null,
   "metadata": {},
   "outputs": [],
   "source": []
  }
 ],
 "metadata": {
  "colab": {
   "collapsed_sections": [],
   "name": "Régression linéaire pénalisée.ipynb",
   "provenance": [
    {
     "file_id": "1Bmu16BEimDRdlj9kUGCUTLW_Ifuk83aV",
     "timestamp": 1649257975284
    }
   ]
  },
  "kernelspec": {
   "display_name": "Python 3",
   "language": "python",
   "name": "python3"
  },
  "language_info": {
   "codemirror_mode": {
    "name": "ipython",
    "version": 3
   },
   "file_extension": ".py",
   "mimetype": "text/x-python",
   "name": "python",
   "nbconvert_exporter": "python",
   "pygments_lexer": "ipython3",
   "version": "3.7.3"
  }
 },
 "nbformat": 4,
 "nbformat_minor": 1
}
